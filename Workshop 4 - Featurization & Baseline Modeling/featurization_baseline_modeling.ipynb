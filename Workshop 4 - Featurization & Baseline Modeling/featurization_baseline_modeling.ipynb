{
 "cells": [
  {
   "cell_type": "markdown",
   "id": "a15dc821-7108-46a9-bad5-4f6f59121f8d",
   "metadata": {},
   "source": [
    "# Workshop 4 - Featurization\n",
    "\n",
    "In this workshop we're going to take the data we reviewed last week during EDA and transform it into usable features to begin modeling. We have a few different options and we'll run through each of the three in turn:\n",
    "1. Gene presence absence\n",
    "2. Kmer counts\n",
    "3. [Bonus] Gene Sequences\n",
    "\n",
    "\n",
    "\n",
    "Lets run through the steps together (there are some questions and some blanks to fill in as we run through)."
   ]
  },
  {
   "cell_type": "markdown",
   "id": "d7140deb-bd7d-48db-9a5a-367700da47a3",
   "metadata": {},
   "source": [
    "## Imports"
   ]
  },
  {
   "cell_type": "code",
   "execution_count": null,
   "id": "79d595ae-d425-4900-8b62-7136b25e777e",
   "metadata": {},
   "outputs": [],
   "source": [
    "import os\n",
    "from collections import defaultdict\n",
    "\n",
    "import pandas as pd\n",
    "import numpy as np\n",
    "from tensorflow import keras"
   ]
  },
  {
   "cell_type": "markdown",
   "id": "e327e0dd-fa16-4a1b-aea9-a2e7b2e17d01",
   "metadata": {},
   "source": [
    "## 1. Load Data\n",
    "\n",
    "Last week we took a look through all our raw data\n",
    "\n",
    "To allow for testing further down the line I've held out some data in advance that we'll be using later in the course. As such I've made a folder in the course project folder system called `train_test_data`\n",
    "\n",
    "For this workshop please download:\n",
    "- `train_test_data` folder and put within `data/`\n",
    "\n",
    "Key for data:\n",
    "- train_genes = gene_match_data for train samples\n",
    "- test_genes = gene_match_data for test samples\n",
    "- y_train = array of S/R target values\n",
    "- y_train_ids = array of genome_ids in order of y_train\n",
    "- y_test_ids = array of genome_ids in order of y_test"
   ]
  },
  {
   "cell_type": "code",
   "execution_count": null,
   "id": "89fd3c81-1867-4819-b907-5f5816a41379",
   "metadata": {},
   "outputs": [],
   "source": [
    "seed = 130\n",
    "\n",
    "def load_data():\n",
    "    \"\"\"\n",
    "    Load the data needed for Workshop 4\n",
    "    \"\"\"\n",
    "    train_genes = pd.read_csv('../data/train_test_data/train_genes.csv')\n",
    "    train_genes['genome_id'] = train_genes.genome_id.astype(str)\n",
    "    test_genes = pd.read_csv('../data/train_test_data/test_genes.csv')\n",
    "    test_genes['genome_id'] = test_genes.genome_id.astype(str)\n",
    "    y_train = np.load('../data/train_test_data/y_train.npy', allow_pickle=True)\n",
    "    y_train_ids = np.load('../data/train_test_data/train_ids.npy', allow_pickle=True).astype(str)\n",
    "    y_test_ids = np.load('../data/train_test_data/test_ids.npy', allow_pickle=True).astype(str)\n",
    "\n",
    "    return train_genes, test_genes, y_train, y_train_ids, y_test_ids\n",
    "\n",
    "train_genes, test_genes, y_train, y_train_ids, y_test_ids = load_data()"
   ]
  },
  {
   "cell_type": "code",
   "execution_count": null,
   "id": "6f73fad7-0542-40c0-b447-e8dc8e6bd7b6",
   "metadata": {},
   "outputs": [],
   "source": [
    "train_genes.head(5)"
   ]
  },
  {
   "cell_type": "code",
   "execution_count": null,
   "id": "f834e26f-4fb2-4e95-880a-92895f339a60",
   "metadata": {},
   "outputs": [],
   "source": [
    "y_train[0:5], y_train_ids[0:5]"
   ]
  },
  {
   "cell_type": "markdown",
   "id": "b354afc5-3d28-4f03-9c52-8dea927efed0",
   "metadata": {},
   "source": [
    "## 1. Presence / Absence Features\n",
    "\n",
    "Our first, most simple feature set will be the presence/absence of each gene we've seen from our CARD alignment data.\n",
    "\n",
    "In order to build these features we'll need to:\n",
    "1. Find all unique res_genes, count which samples they're present/absent in\n",
    "2. Look for correlations between genes\n",
    "3. Remove highly correlated features (as seen in the assignment)"
   ]
  },
  {
   "cell_type": "markdown",
   "id": "0823454f-c4cb-431f-9b2f-4dce1b8299d6",
   "metadata": {},
   "source": [
    "### 1a. Create a presence absence matrix for each sample and each gene\n",
    "\n",
    "- We're going to leverage some pandas magic to make this really simple\n",
    "- The logic can be quite complex manually\n",
    "  - For each gene, search each samples\n",
    "  - Store a list of 0/1 for each samples for each gene\n",
    "  - Ensuring correct ordering\n",
    "- Pandas can do this for us using `pivot_table`"
   ]
  },
  {
   "cell_type": "code",
   "execution_count": null,
   "id": "a6862528-7da5-4af6-967a-ac01113e0a8f",
   "metadata": {},
   "outputs": [],
   "source": [
    "def build_gene_presence_absence(dataset, ids, gene_names=None):\n",
    "    \"\"\"\n",
    "    Build a matrix of samples to genes with 1 for present and 0 for absent\n",
    "\n",
    "    Args:\n",
    "      - dataset (pd.DataFrame): dataset of gene alignments\n",
    "      - ids (list): ordering for IDs\n",
    "      - gene_names (list): ordered list of unique genes (optional)\n",
    "    \"\"\"\n",
    "    # If not providing genes take all unique genes from the data\n",
    "    if gene_names is None:\n",
    "        gene_names = dataset.res_gene.unique()\n",
    "\n",
    "    # Count for all genes found within the data\n",
    "    genes_counts = (\n",
    "        ---\n",
    "    )\n",
    "\n",
    "    # Add genes missing from the data\n",
    "    missing_genes = ---\n",
    "    if len(missing_genes) > 0:\n",
    "        for gene in missing_genes:\n",
    "            genes_counts[gene] = 0\n",
    "\n",
    "    # Make sure to return in the same order as gene_names and the same sample order\n",
    "    return ---"
   ]
  },
  {
   "cell_type": "markdown",
   "id": "a49270eb-0613-4a4a-a28f-5e5a1a7f44c0",
   "metadata": {},
   "source": [
    "<div class=\"question\" style=\"color: #534646; background-color: #ffdfa3; padding: 1px; border-radius: 5px;\">\n",
    "\n",
    "#### Q. Why do we need to pass in a list of gene names?\n",
    "\n",
    "</div>"
   ]
  },
  {
   "cell_type": "code",
   "execution_count": null,
   "id": "963c8ed9-db35-4b98-8921-036dc05253ef",
   "metadata": {},
   "outputs": [],
   "source": [
    "train_presence_absence_df = build_gene_presence_absence(train_genes, y_train_ids)\n",
    "print('\\nShape of PA df:', train_presence_absence_df.shape, '\\n')\n",
    "train_presence_absence_df.head()"
   ]
  },
  {
   "cell_type": "code",
   "execution_count": null,
   "id": "5a4295de-3e15-410d-9a50-692a6a1131d9",
   "metadata": {},
   "outputs": [],
   "source": [
    "genes_of_interest = [\n",
    "    'gb|AAAGNS010000063.1|-|144-1005|ARO:3000966|TEM-103',\n",
    "    'gb|AB023477.1|+|0-861|ARO:3001082|SHV-24',\n",
    "    'Random Missing Gene',\n",
    "    'gb|AB089595.1|+|0-1206|ARO:3000166|tet(B)',\n",
    "]\n",
    "build_gene_presence_absence(train_genes, y_train_ids, genes_of_interest).head()"
   ]
  },
  {
   "cell_type": "markdown",
   "id": "8fa6e620-cf67-4421-bf07-bcf9e3691938",
   "metadata": {},
   "source": [
    "### 2b. Review Correlations and Remove Identical Features\n",
    "\n",
    "As seen in last week's assignment, these presence absence features have a lot of redundancies (genes that are identical across samples).\n",
    "\n",
    "If we leave these, they can cause issues during modeling (unidentifiability/incorrect feature importances and inferences).\n",
    "\n",
    "Two options:\n",
    "1. Calculate correlations and cluster\n",
    "2. Look at identical presence/absence and select one\n",
    "\n",
    "We'll go for the simpler option 2 but you can also try clustering in your project if you believe it will help model performance.\n",
    "\n",
    "Again this seems somewhat complex - we need to look across all samples and check for identical 1/0 arrays. BUT:\n",
    "\n",
    "- Pandas to the rescue once again"
   ]
  },
  {
   "cell_type": "markdown",
   "id": "f8b190b0-5781-4a8b-b93c-8dbe1599a7fd",
   "metadata": {},
   "source": [
    "<div class=\"question\" style=\"color: #534646; background-color: #ffdfa3; padding: 1px; border-radius: 5px;\">\n",
    "\n",
    "#### Q. Can anyone think of a common pandas operation which might help use remove identical values?\n",
    "\n",
    "</div>"
   ]
  },
  {
   "cell_type": "code",
   "execution_count": null,
   "id": "d2ef5f3f-e9c8-40fb-a659-2b3112d6dec1",
   "metadata": {},
   "outputs": [],
   "source": [
    "# Transpose the data so that genes are our rows\n",
    "train_presence_absence_transposed = ---\n",
    "\n",
    "# Use \"drop_duplicates()\" to remove identical rows (will just keep the first)\n",
    "train_unique_presence_absence = ---\n",
    "\n",
    "# Transpose back so genes are columns\n",
    "train_presence_absence_df = ---"
   ]
  },
  {
   "cell_type": "code",
   "execution_count": null,
   "id": "53a564a9-85e5-4cf4-a029-4cde2697f3b7",
   "metadata": {},
   "outputs": [],
   "source": [
    "print('\\nShape of PA df:', train_presence_absence_df.shape, '\\n')\n",
    "train_presence_absence_df.head()"
   ]
  },
  {
   "cell_type": "markdown",
   "id": "c2856d94-8c99-400a-966f-694fb458ca99",
   "metadata": {},
   "source": [
    "### 2c. Also then need to subset our test data\n",
    "\n",
    "Always need to make sure our test data is in the same shape and format"
   ]
  },
  {
   "cell_type": "code",
   "execution_count": null,
   "id": "f7d2dfc8-c5b6-4a52-9275-0cc60c829ee3",
   "metadata": {},
   "outputs": [],
   "source": [
    "# Get just the unique 159 genes from our training data\n",
    "unique_train_genes = ---\n",
    "test_presence_absence_df = build_gene_presence_absence(---)"
   ]
  },
  {
   "cell_type": "code",
   "execution_count": null,
   "id": "1b594936-8aeb-43b5-a2fc-84251a9dac00",
   "metadata": {},
   "outputs": [],
   "source": [
    "test_presence_absence_df.head()"
   ]
  },
  {
   "cell_type": "markdown",
   "id": "1d271974-bc3e-44c6-af50-9b3a2f94e086",
   "metadata": {},
   "source": [
    "## 3. Kmer Features\n",
    "\n",
    "Kmers are a representation of the raw sequencing data.\n",
    "\n",
    "K being a parameter setting the length of the sequence (e.g. 2-mer or 5-mer)\n",
    "\n",
    "There are two main options for kmerizing data:\n",
    "1. Utilize Python to count the sequence data\n",
    "2. Utilize a command line tool (see [Jellyfish](https://github.com/zippav/Jellyfish-2))\n",
    "\n",
    "In this tutorial we'll learn how to generate kmers manually on a small subset of data.\n",
    "\n",
    "Kmer counting is an expensive operation, for using Kmer features in your project - I've already generated an output file across all the data using Jellyfish (we'll loop back to this next week)"
   ]
  },
  {
   "cell_type": "markdown",
   "id": "e2a9ca74-67e8-4150-bc50-f6983a1cc50c",
   "metadata": {},
   "source": [
    "### 3a. How can we count Kmers in a single sequence?"
   ]
  },
  {
   "cell_type": "markdown",
   "id": "ae0d71d5-261d-4514-86a9-30c22e84ad51",
   "metadata": {},
   "source": [
    "<div class=\"question\" style=\"color: #534646; background-color: #ffdfa3; padding: 1px; border-radius: 5px;\">\n",
    "\n",
    "#### Q. How would we generate the first 7-mer from a sequence?\n",
    "\n",
    "</div>"
   ]
  },
  {
   "cell_type": "markdown",
   "id": "4c10f9f4-67c6-491f-923f-6cdeef2edee1",
   "metadata": {},
   "source": [
    "We're going to need to break down our sequences into discrete chunks.\n",
    "\n",
    "As we saw in the presentation, we need to slide along our sequence doing this at each position:\n",
    "1. A simple for loop will work perfectly for this\n",
    "2. We can select each chunk of 7 nucleotides at each position\n",
    "3. We'll need to figure out how to keep track of this efficiently"
   ]
  },
  {
   "cell_type": "code",
   "execution_count": null,
   "id": "05d68403-6b71-46a3-a7ba-c6d40d437c56",
   "metadata": {},
   "outputs": [],
   "source": [
    "def count_kmers(sequence, k=7):\n",
    "    \"\"\"\n",
    "    For a single sequence, slide over all nucleotides and count each k chunk\n",
    "\n",
    "    Args:\n",
    "      - sequence (str): raw nucleotide data\n",
    "      - k (int): size of kmers\n",
    "    \"\"\"\n",
    "    kmer_counts = ---\n",
    "    for i_start in range(---):\n",
    "        kmer = ---\n",
    "        kmer_counts[kmer] += 1\n",
    "    \n",
    "    return kmer_counts"
   ]
  },
  {
   "cell_type": "code",
   "execution_count": null,
   "id": "6f5054a1-8ecb-4077-9e0b-b6cdc169980e",
   "metadata": {},
   "outputs": [],
   "source": [
    "# Test with a sequence\n",
    "test_sequence = 'ACGTGTGTAAGACGTGTGGCGA'\n",
    "count_kmers('ACGTGTGTAAGACGTGTGGCGA')"
   ]
  },
  {
   "cell_type": "markdown",
   "id": "bb6c144e-657e-4024-a598-263bb894227e",
   "metadata": {},
   "source": [
    "### 3b. Apply this approach for each sample\n",
    "\n",
    "We have a function which can turn a sequence into counts of kmers\n",
    "\n",
    "This still isn't a usable \"feature\" for modeling though, we now need to apply across our training data, lets take a look at the data again:"
   ]
  },
  {
   "cell_type": "code",
   "execution_count": null,
   "id": "4ceff088-ed84-492d-a1b3-1ebdf7c0bac2",
   "metadata": {},
   "outputs": [],
   "source": [
    "train_genes.head(3)"
   ]
  },
  {
   "cell_type": "markdown",
   "id": "4b0fa0cc-9148-4c93-ad4e-d9cbe8f9737f",
   "metadata": {},
   "source": [
    "<div class=\"question\" style=\"color: #534646; background-color: #ffdfa3; padding: 1px; border-radius: 5px;\">\n",
    "\n",
    "#### Q. What steps are we going to need to take from the data above?\n",
    "\n",
    "</div>"
   ]
  },
  {
   "cell_type": "markdown",
   "id": "09607110-fbf4-49fe-bd65-045f179de571",
   "metadata": {},
   "source": [
    "Our data isn't in a single sequence per sample, it's per sample per gene.\n",
    "\n",
    "We can either:\n",
    "1. Count kmers per gene sequence and then aggregate per sample\n",
    "2. Aggregate sequences to a single sequence per sample then count\n",
    "\n",
    "We're going to take option 2 as it makes tracking the kmers much easier\n",
    "\n",
    "To make this computationally feasible we're going to try on just the first 5 samples"
   ]
  },
  {
   "cell_type": "code",
   "execution_count": null,
   "id": "7e0dba0b-4f67-466e-b51a-72d04a36a92c",
   "metadata": {},
   "outputs": [],
   "source": [
    "def count_kmers_per_sample(dataset, sample_id_col='genome_id', gene_col='ref_gene_str'):\n",
    "\n",
    "    # Agg to full gene string per sample\n",
    "    seq_per_sample = ---\n",
    "    seq_per_sample['ref_gene_str'] = seq_per_sample['ref_gene_str'].str.upper()\n",
    "\n",
    "    kmer_counts = {}\n",
    "    for ref_name, sequence in seq_per_sample[[sample_id_col, gene_col]].to_records(index=False):\n",
    "        ---\n",
    "\n",
    "    # Convert to DataFrame, fill empty with zero and transpose\n",
    "    kmer_counts_df = ---\n",
    "    \n",
    "    return kmer_counts_df"
   ]
  },
  {
   "cell_type": "code",
   "execution_count": null,
   "id": "d988046d-e5f7-42dd-a645-731b2191707e",
   "metadata": {},
   "outputs": [],
   "source": [
    "first_5_samples = train_genes.genome_id.unique()[0:5]\n",
    "train_genes_first_five = train_genes[train_genes.genome_id.isin(first_5_samples)]\n",
    "test_kmer_counts = count_kmers_per_sample(train_genes_first_five)"
   ]
  },
  {
   "cell_type": "code",
   "execution_count": null,
   "id": "5a422cf7-9f62-485e-90ff-0ee98a51f131",
   "metadata": {},
   "outputs": [],
   "source": [
    "test_kmer_counts.head()"
   ]
  },
  {
   "cell_type": "markdown",
   "id": "8101451d-c123-4730-bce9-00653e7b1206",
   "metadata": {},
   "source": [
    "<div class=\"question\" style=\"color: #534646; background-color: #ffdfa3; padding: 1px; border-radius: 5px;\">\n",
    "\n",
    "#### Q. Any potential issues with the above?\n",
    "\n",
    "</div>"
   ]
  },
  {
   "cell_type": "code",
   "execution_count": null,
   "id": "6340c72f-2314-4163-bf66-57763c445878",
   "metadata": {},
   "outputs": [],
   "source": [
    "# Check unique possible 7-mers\n",
    "4**7"
   ]
  },
  {
   "cell_type": "markdown",
   "id": "627c356f-8249-4aa2-9b3f-32594721d5ab",
   "metadata": {},
   "source": [
    "### Final Note\n",
    "\n",
    "We've counted every kmer that was present in each sample\n",
    "\n",
    "BUT: we haven't account for the kmers which weren't seen anywhere in the samples\n",
    "- 16,245 kmers present in the first 5 genomes\n",
    "- We need the feature matrix to be consistent for future unseen\n",
    "- Therefore need to account for ALL possible kmers\n",
    "\n",
    "Our feature matrix would need to be `N x 16384`\n",
    "\n",
    "This could get very large if we use a high K! (Remember 10-mers had over 1 million unique features)\n",
    "\n",
    "For next week I've already created a 11-mer matrix for both train and test using all unique genes seen across the data we have in this workshop."
   ]
  },
  {
   "cell_type": "markdown",
   "id": "3f2bdf53-896b-47be-9da4-fd4cbf5944cc",
   "metadata": {},
   "source": [
    "## 3. [BONUS] Sequence Features\n",
    "\n",
    "I've provided a simple method for featurizing the gene sequences themselves into a usable format. As mentioned it is an optional extra if you want to try using these features to build a Neural network as part of your project. It will be tricky to get it to train correctly and you may need to invest a lot more time to get it working (see the paper I linked in the slides). This featurization approach is likely insufficient alone but you can use it as a jumping off point if you wish to explore further.\n",
    "\n",
    "At a high level the process is:\n",
    "1. Extract only variant genes from CARD (ones which confer resistance through mutations)\n",
    "2. Subset genes to variant genes and randomly concatenate into a single long string\n",
    "3. Encode nucleotides to integers"
   ]
  },
  {
   "cell_type": "code",
   "execution_count": null,
   "id": "4a508387-955a-4321-a516-31a76617b263",
   "metadata": {},
   "outputs": [],
   "source": [
    "# Load in just the varient genes and subset the data\n",
    "for file_name in os.listdir('../data_full/card_data/'):\n",
    "    if file_name.startswith('nucleotide_fasta_protein_variant_model'):\n",
    "        print(file_name)\n",
    "        with open(f'../data/card_data/{file_name}') as f:\n",
    "            fasta = f.readlines()\n",
    "variant_genes = [x.strip().split(' ')[0][1:] for x in fasta[0::2]]\n",
    "\n",
    "variant_gene_alignment_df = train_genes[train_genes.res_gene.isin(variant_genes)]"
   ]
  },
  {
   "cell_type": "code",
   "execution_count": null,
   "id": "2ed2ff0d-ca91-4bed-9aa6-098965595aaa",
   "metadata": {},
   "outputs": [],
   "source": [
    "# Precomputed maximum length of sequences\n",
    "max_length = 53859"
   ]
  },
  {
   "cell_type": "code",
   "execution_count": null,
   "id": "9dea33e9-8345-44c1-8dbe-0a8e456a27e2",
   "metadata": {},
   "outputs": [],
   "source": [
    "def encode_seq(seq):\n",
    "    label_enc = {'A':1, 'C':2, 'G':3, 'T':4}\n",
    "    return [label_enc.get(x.upper(), 5) for x in seq]\n",
    "\n",
    "def featurize_variant_sequences(variant_genes, amr_max_length, pad_char=0):\n",
    "    gene_features = variant_genes.groupby('genome_id', sort=False)['ref_gene_str'].sum()\n",
    "    gene_features = [encode_seq(x) for x in gene_features]\n",
    "    gene_features = keras.utils.pad_sequences(gene_features, maxlen=max_length, padding='post', value=pad_char)\n",
    "       \n",
    "    return gene_features"
   ]
  },
  {
   "cell_type": "code",
   "execution_count": null,
   "id": "6a470145-a5e6-4b95-88c0-87750b7483b8",
   "metadata": {},
   "outputs": [],
   "source": [
    "sequence_features = featurize_variant_sequences(variant_gene_alignment_df, max_length)"
   ]
  },
  {
   "cell_type": "code",
   "execution_count": null,
   "id": "6fe7a2a4-61da-4ef2-8c2a-8aa09153d429",
   "metadata": {},
   "outputs": [],
   "source": [
    "sequence_features[0:5]"
   ]
  },
  {
   "cell_type": "markdown",
   "id": "5ce88661-ff0c-4862-87cf-fd25d77a76af",
   "metadata": {},
   "source": [
    "### Review:\n",
    "- This is a very simple featurization scheme to get started with\n",
    "- It randomly joins genes so the ordering is jumbled\n",
    "- We're only taking Variant genes, which may not be predictive for all samples\n",
    "  - Some may be mediated by the presence absence genes\n",
    "\n",
    "If planning to try using sequence features for the project:\n",
    "- Review the paper linked in the slides\n",
    "- Think about how to represent the data\n",
    "- Consider trying to build sequences using all genes if you have the computational resources to do so"
   ]
  },
  {
   "cell_type": "markdown",
   "id": "b7530434-9991-4b83-8a9c-5f9936bfa173",
   "metadata": {},
   "source": [
    "## 5.Save data out for Assignment\n",
    "\n",
    "Save the presence/absence train/test data for use in the assignment (this is also available in the `train_test_data` course data folder if needed)."
   ]
  },
  {
   "cell_type": "code",
   "execution_count": null,
   "id": "b57c71bc-6ed2-469a-b703-404dab9d80ba",
   "metadata": {},
   "outputs": [],
   "source": [
    "train_presence_absence_df.to_csv('../data/train_test_data/train_pa_genes.csv')\n",
    "test_presence_absence_df.to_csv('../data/train_test_data/test_pa_genes.csv')"
   ]
  },
  {
   "cell_type": "code",
   "execution_count": null,
   "id": "7760d68b-55a5-46e1-852b-1efc09effeec",
   "metadata": {},
   "outputs": [],
   "source": []
  }
 ],
 "metadata": {
  "kernelspec": {
   "display_name": "Python 3 (ipykernel)",
   "language": "python",
   "name": "python3"
  },
  "language_info": {
   "codemirror_mode": {
    "name": "ipython",
    "version": 3
   },
   "file_extension": ".py",
   "mimetype": "text/x-python",
   "name": "python",
   "nbconvert_exporter": "python",
   "pygments_lexer": "ipython3",
   "version": "3.10.14"
  }
 },
 "nbformat": 4,
 "nbformat_minor": 5
}
