{
 "cells": [
  {
   "cell_type": "markdown",
   "metadata": {},
   "source": [
    "# A4 - Baseline Modeling\n",
    "\n",
    "#### Throughout the exercise, there are blanks you will need to fill in, these blanks are highlighted with three dashes `---` or an empty cell\n",
    "\n",
    "In the workshop session we covered three different featurization approaches but didn't build any baseline models. This assignment is your chance to try a few baseline modeling approaches, you'll be able to leverage these for comparison when you come to your final project.\n",
    "\n",
    "The assignment will be split into:\n",
    "1. Build a random predictor\n",
    "2. Build a majority class predictors\n",
    "3. Build a KNN model\n",
    "\n",
    "These models are slowly increasing in complexity and likelihood of having reasonable predictions.\n"
   ]
  },
  {
   "cell_type": "markdown",
   "metadata": {},
   "source": [
    "## Imports"
   ]
  },
  {
   "cell_type": "code",
   "execution_count": 1,
   "metadata": {},
   "outputs": [],
   "source": [
    "from collections import Counter\n",
    "\n",
    "import pandas as pd\n",
    "import numpy as np\n",
    "import matplotlib.pyplot as plt\n",
    "import seaborn as sns\n",
    "from sklearn import metrics, neighbors"
   ]
  },
  {
   "cell_type": "code",
   "execution_count": 3,
   "metadata": {},
   "outputs": [],
   "source": [
    "seed = 13 # DON'T CHANGE"
   ]
  },
  {
   "cell_type": "markdown",
   "metadata": {},
   "source": [
    "## Load Required Data"
   ]
  },
  {
   "cell_type": "code",
   "execution_count": 2,
   "metadata": {},
   "outputs": [],
   "source": [
    "train_pa_df = pd.read_csv('../data/train_test_data/train_pa_genes.csv')"
   ]
  },
  {
   "cell_type": "code",
   "execution_count": 4,
   "metadata": {},
   "outputs": [],
   "source": [
    "def load_data():\n",
    "    \"\"\"\n",
    "    Load the data needed for Assignment 4\n",
    "    \"\"\"\n",
    "    train_pa_df = pd.read_csv('../data/train_test_data/train_pa_genes.csv')\n",
    "    train_pa_df = train_pa_df.set_index('genome_id')\n",
    "\n",
    "    y_train = np.load('../data/train_test_data/y_train.npy', allow_pickle=True)\n",
    "    y_train_ids = np.load('../data/train_test_data/train_ids.npy', allow_pickle=True).astype(str)\n",
    "    \n",
    "    return train_pa_df, y_train, y_train_ids\n",
    "\n",
    "train_pa_df, y_train, y_train_ids = load_data()\n"
   ]
  },
  {
   "cell_type": "code",
   "execution_count": 5,
   "metadata": {},
   "outputs": [
    {
     "data": {
      "text/html": [
       "<div>\n",
       "<style scoped>\n",
       "    .dataframe tbody tr th:only-of-type {\n",
       "        vertical-align: middle;\n",
       "    }\n",
       "\n",
       "    .dataframe tbody tr th {\n",
       "        vertical-align: top;\n",
       "    }\n",
       "\n",
       "    .dataframe thead th {\n",
       "        text-align: right;\n",
       "    }\n",
       "</style>\n",
       "<table border=\"1\" class=\"dataframe\">\n",
       "  <thead>\n",
       "    <tr style=\"text-align: right;\">\n",
       "      <th></th>\n",
       "      <th>gb|U00096.3|-|3324062-3324911|ARO:3003386|Ecol_folP_SLF</th>\n",
       "      <th>gb|AP009048.1|+|3760295-3762710|ARO:3003303|Ecol_gyrB_AMU</th>\n",
       "      <th>gb|BA000007.3|+|4990267-4994296|ARO:3003288|Ecol_rpoB_RIF</th>\n",
       "      <th>gb|AH002539.2|+|1760-2945|ARO:3003368|Ecol_EFTu_KIR</th>\n",
       "      <th>gb|AE014075.1|-|3901532-3902762|ARO:3003369|Ecol_EFTu_PLV</th>\n",
       "      <th>gb|U00096.3|-|2336792-2339420|ARO:3003294|Ecol_gyrA_FLO</th>\n",
       "      <th>gb|AE006468.2|-|4038867-4041282|ARO:3003307|Sser_gyrB_FLO</th>\n",
       "      <th>gb|HG738867.1|+|2934266-2935658|ARO:3003890|Ecol_UhpT_FOF</th>\n",
       "      <th>gb|HG738867.1|-|2233288-2234647|ARO:3003889|Ecol_GlpT_FOF</th>\n",
       "      <th>gb|HG738867.1|+|2930707-2931298|ARO:3003893|Ecol_uhpA_FOF</th>\n",
       "      <th>...</th>\n",
       "      <th>gb|X01702.1|+|484-1285|ARO:3002659|APH(6)-Ic</th>\n",
       "      <th>gb|JX259319.1|+|0-681|ARO:3002771|QnrB58</th>\n",
       "      <th>gb|EU675686.2|+|3196-4042|ARO:3002616|aadA16</th>\n",
       "      <th>gb|HQ418999.2|+|0-681|ARO:3002746|QnrB31</th>\n",
       "      <th>gb|JX423831.1|+|2676-3474|ARO:3001778|OXA-232</th>\n",
       "      <th>gb|AY536519.1|+|37-937|ARO:3002372|VEB-3</th>\n",
       "      <th>gb|KJ158441.1|+|2732-3377|ARO:3002789|QnrD2</th>\n",
       "      <th>gb|KF526113.1|+|0-1146|ARO:3002112|CMY-100</th>\n",
       "      <th>gb|X03988.1|+|382-1642|ARO:3000363|EreB</th>\n",
       "      <th>gb|AJ310778.1|+|7003-7573|ARO:3003015|dfrA19</th>\n",
       "    </tr>\n",
       "    <tr>\n",
       "      <th>genome_id</th>\n",
       "      <th></th>\n",
       "      <th></th>\n",
       "      <th></th>\n",
       "      <th></th>\n",
       "      <th></th>\n",
       "      <th></th>\n",
       "      <th></th>\n",
       "      <th></th>\n",
       "      <th></th>\n",
       "      <th></th>\n",
       "      <th></th>\n",
       "      <th></th>\n",
       "      <th></th>\n",
       "      <th></th>\n",
       "      <th></th>\n",
       "      <th></th>\n",
       "      <th></th>\n",
       "      <th></th>\n",
       "      <th></th>\n",
       "      <th></th>\n",
       "      <th></th>\n",
       "    </tr>\n",
       "  </thead>\n",
       "  <tbody>\n",
       "    <tr>\n",
       "      <th>562.22444</th>\n",
       "      <td>1.0</td>\n",
       "      <td>1.0</td>\n",
       "      <td>1.0</td>\n",
       "      <td>1.0</td>\n",
       "      <td>1.0</td>\n",
       "      <td>1.0</td>\n",
       "      <td>1.0</td>\n",
       "      <td>1.0</td>\n",
       "      <td>1.0</td>\n",
       "      <td>1.0</td>\n",
       "      <td>...</td>\n",
       "      <td>0.0</td>\n",
       "      <td>0.0</td>\n",
       "      <td>0.0</td>\n",
       "      <td>0.0</td>\n",
       "      <td>0.0</td>\n",
       "      <td>0.0</td>\n",
       "      <td>0.0</td>\n",
       "      <td>0.0</td>\n",
       "      <td>0.0</td>\n",
       "      <td>0.0</td>\n",
       "    </tr>\n",
       "    <tr>\n",
       "      <th>562.42705</th>\n",
       "      <td>1.0</td>\n",
       "      <td>1.0</td>\n",
       "      <td>1.0</td>\n",
       "      <td>0.0</td>\n",
       "      <td>0.0</td>\n",
       "      <td>1.0</td>\n",
       "      <td>0.0</td>\n",
       "      <td>1.0</td>\n",
       "      <td>1.0</td>\n",
       "      <td>1.0</td>\n",
       "      <td>...</td>\n",
       "      <td>0.0</td>\n",
       "      <td>0.0</td>\n",
       "      <td>0.0</td>\n",
       "      <td>0.0</td>\n",
       "      <td>0.0</td>\n",
       "      <td>0.0</td>\n",
       "      <td>0.0</td>\n",
       "      <td>0.0</td>\n",
       "      <td>0.0</td>\n",
       "      <td>0.0</td>\n",
       "    </tr>\n",
       "    <tr>\n",
       "      <th>562.42733</th>\n",
       "      <td>1.0</td>\n",
       "      <td>1.0</td>\n",
       "      <td>1.0</td>\n",
       "      <td>0.0</td>\n",
       "      <td>0.0</td>\n",
       "      <td>1.0</td>\n",
       "      <td>0.0</td>\n",
       "      <td>1.0</td>\n",
       "      <td>1.0</td>\n",
       "      <td>1.0</td>\n",
       "      <td>...</td>\n",
       "      <td>0.0</td>\n",
       "      <td>0.0</td>\n",
       "      <td>0.0</td>\n",
       "      <td>0.0</td>\n",
       "      <td>0.0</td>\n",
       "      <td>0.0</td>\n",
       "      <td>0.0</td>\n",
       "      <td>0.0</td>\n",
       "      <td>0.0</td>\n",
       "      <td>0.0</td>\n",
       "    </tr>\n",
       "    <tr>\n",
       "      <th>562.42728</th>\n",
       "      <td>1.0</td>\n",
       "      <td>1.0</td>\n",
       "      <td>1.0</td>\n",
       "      <td>1.0</td>\n",
       "      <td>1.0</td>\n",
       "      <td>1.0</td>\n",
       "      <td>1.0</td>\n",
       "      <td>1.0</td>\n",
       "      <td>1.0</td>\n",
       "      <td>1.0</td>\n",
       "      <td>...</td>\n",
       "      <td>0.0</td>\n",
       "      <td>0.0</td>\n",
       "      <td>0.0</td>\n",
       "      <td>0.0</td>\n",
       "      <td>0.0</td>\n",
       "      <td>0.0</td>\n",
       "      <td>0.0</td>\n",
       "      <td>0.0</td>\n",
       "      <td>0.0</td>\n",
       "      <td>0.0</td>\n",
       "    </tr>\n",
       "    <tr>\n",
       "      <th>562.45644</th>\n",
       "      <td>1.0</td>\n",
       "      <td>1.0</td>\n",
       "      <td>1.0</td>\n",
       "      <td>0.0</td>\n",
       "      <td>0.0</td>\n",
       "      <td>1.0</td>\n",
       "      <td>1.0</td>\n",
       "      <td>1.0</td>\n",
       "      <td>1.0</td>\n",
       "      <td>1.0</td>\n",
       "      <td>...</td>\n",
       "      <td>0.0</td>\n",
       "      <td>0.0</td>\n",
       "      <td>0.0</td>\n",
       "      <td>0.0</td>\n",
       "      <td>0.0</td>\n",
       "      <td>0.0</td>\n",
       "      <td>0.0</td>\n",
       "      <td>0.0</td>\n",
       "      <td>0.0</td>\n",
       "      <td>0.0</td>\n",
       "    </tr>\n",
       "  </tbody>\n",
       "</table>\n",
       "<p>5 rows × 159 columns</p>\n",
       "</div>"
      ],
      "text/plain": [
       "           gb|U00096.3|-|3324062-3324911|ARO:3003386|Ecol_folP_SLF  \\\n",
       "genome_id                                                            \n",
       "562.22444                                                1.0         \n",
       "562.42705                                                1.0         \n",
       "562.42733                                                1.0         \n",
       "562.42728                                                1.0         \n",
       "562.45644                                                1.0         \n",
       "\n",
       "           gb|AP009048.1|+|3760295-3762710|ARO:3003303|Ecol_gyrB_AMU  \\\n",
       "genome_id                                                              \n",
       "562.22444                                                1.0           \n",
       "562.42705                                                1.0           \n",
       "562.42733                                                1.0           \n",
       "562.42728                                                1.0           \n",
       "562.45644                                                1.0           \n",
       "\n",
       "           gb|BA000007.3|+|4990267-4994296|ARO:3003288|Ecol_rpoB_RIF  \\\n",
       "genome_id                                                              \n",
       "562.22444                                                1.0           \n",
       "562.42705                                                1.0           \n",
       "562.42733                                                1.0           \n",
       "562.42728                                                1.0           \n",
       "562.45644                                                1.0           \n",
       "\n",
       "           gb|AH002539.2|+|1760-2945|ARO:3003368|Ecol_EFTu_KIR  \\\n",
       "genome_id                                                        \n",
       "562.22444                                                1.0     \n",
       "562.42705                                                0.0     \n",
       "562.42733                                                0.0     \n",
       "562.42728                                                1.0     \n",
       "562.45644                                                0.0     \n",
       "\n",
       "           gb|AE014075.1|-|3901532-3902762|ARO:3003369|Ecol_EFTu_PLV  \\\n",
       "genome_id                                                              \n",
       "562.22444                                                1.0           \n",
       "562.42705                                                0.0           \n",
       "562.42733                                                0.0           \n",
       "562.42728                                                1.0           \n",
       "562.45644                                                0.0           \n",
       "\n",
       "           gb|U00096.3|-|2336792-2339420|ARO:3003294|Ecol_gyrA_FLO  \\\n",
       "genome_id                                                            \n",
       "562.22444                                                1.0         \n",
       "562.42705                                                1.0         \n",
       "562.42733                                                1.0         \n",
       "562.42728                                                1.0         \n",
       "562.45644                                                1.0         \n",
       "\n",
       "           gb|AE006468.2|-|4038867-4041282|ARO:3003307|Sser_gyrB_FLO  \\\n",
       "genome_id                                                              \n",
       "562.22444                                                1.0           \n",
       "562.42705                                                0.0           \n",
       "562.42733                                                0.0           \n",
       "562.42728                                                1.0           \n",
       "562.45644                                                1.0           \n",
       "\n",
       "           gb|HG738867.1|+|2934266-2935658|ARO:3003890|Ecol_UhpT_FOF  \\\n",
       "genome_id                                                              \n",
       "562.22444                                                1.0           \n",
       "562.42705                                                1.0           \n",
       "562.42733                                                1.0           \n",
       "562.42728                                                1.0           \n",
       "562.45644                                                1.0           \n",
       "\n",
       "           gb|HG738867.1|-|2233288-2234647|ARO:3003889|Ecol_GlpT_FOF  \\\n",
       "genome_id                                                              \n",
       "562.22444                                                1.0           \n",
       "562.42705                                                1.0           \n",
       "562.42733                                                1.0           \n",
       "562.42728                                                1.0           \n",
       "562.45644                                                1.0           \n",
       "\n",
       "           gb|HG738867.1|+|2930707-2931298|ARO:3003893|Ecol_uhpA_FOF  ...  \\\n",
       "genome_id                                                             ...   \n",
       "562.22444                                                1.0          ...   \n",
       "562.42705                                                1.0          ...   \n",
       "562.42733                                                1.0          ...   \n",
       "562.42728                                                1.0          ...   \n",
       "562.45644                                                1.0          ...   \n",
       "\n",
       "           gb|X01702.1|+|484-1285|ARO:3002659|APH(6)-Ic  \\\n",
       "genome_id                                                 \n",
       "562.22444                                           0.0   \n",
       "562.42705                                           0.0   \n",
       "562.42733                                           0.0   \n",
       "562.42728                                           0.0   \n",
       "562.45644                                           0.0   \n",
       "\n",
       "           gb|JX259319.1|+|0-681|ARO:3002771|QnrB58  \\\n",
       "genome_id                                             \n",
       "562.22444                                       0.0   \n",
       "562.42705                                       0.0   \n",
       "562.42733                                       0.0   \n",
       "562.42728                                       0.0   \n",
       "562.45644                                       0.0   \n",
       "\n",
       "           gb|EU675686.2|+|3196-4042|ARO:3002616|aadA16  \\\n",
       "genome_id                                                 \n",
       "562.22444                                           0.0   \n",
       "562.42705                                           0.0   \n",
       "562.42733                                           0.0   \n",
       "562.42728                                           0.0   \n",
       "562.45644                                           0.0   \n",
       "\n",
       "           gb|HQ418999.2|+|0-681|ARO:3002746|QnrB31  \\\n",
       "genome_id                                             \n",
       "562.22444                                       0.0   \n",
       "562.42705                                       0.0   \n",
       "562.42733                                       0.0   \n",
       "562.42728                                       0.0   \n",
       "562.45644                                       0.0   \n",
       "\n",
       "           gb|JX423831.1|+|2676-3474|ARO:3001778|OXA-232  \\\n",
       "genome_id                                                  \n",
       "562.22444                                            0.0   \n",
       "562.42705                                            0.0   \n",
       "562.42733                                            0.0   \n",
       "562.42728                                            0.0   \n",
       "562.45644                                            0.0   \n",
       "\n",
       "           gb|AY536519.1|+|37-937|ARO:3002372|VEB-3  \\\n",
       "genome_id                                             \n",
       "562.22444                                       0.0   \n",
       "562.42705                                       0.0   \n",
       "562.42733                                       0.0   \n",
       "562.42728                                       0.0   \n",
       "562.45644                                       0.0   \n",
       "\n",
       "           gb|KJ158441.1|+|2732-3377|ARO:3002789|QnrD2  \\\n",
       "genome_id                                                \n",
       "562.22444                                          0.0   \n",
       "562.42705                                          0.0   \n",
       "562.42733                                          0.0   \n",
       "562.42728                                          0.0   \n",
       "562.45644                                          0.0   \n",
       "\n",
       "           gb|KF526113.1|+|0-1146|ARO:3002112|CMY-100  \\\n",
       "genome_id                                               \n",
       "562.22444                                         0.0   \n",
       "562.42705                                         0.0   \n",
       "562.42733                                         0.0   \n",
       "562.42728                                         0.0   \n",
       "562.45644                                         0.0   \n",
       "\n",
       "           gb|X03988.1|+|382-1642|ARO:3000363|EreB  \\\n",
       "genome_id                                            \n",
       "562.22444                                      0.0   \n",
       "562.42705                                      0.0   \n",
       "562.42733                                      0.0   \n",
       "562.42728                                      0.0   \n",
       "562.45644                                      0.0   \n",
       "\n",
       "           gb|AJ310778.1|+|7003-7573|ARO:3003015|dfrA19  \n",
       "genome_id                                                \n",
       "562.22444                                           0.0  \n",
       "562.42705                                           0.0  \n",
       "562.42733                                           0.0  \n",
       "562.42728                                           0.0  \n",
       "562.45644                                           0.0  \n",
       "\n",
       "[5 rows x 159 columns]"
      ]
     },
     "execution_count": 5,
     "metadata": {},
     "output_type": "execute_result"
    }
   ],
   "source": [
    "train_pa_df.head()"
   ]
  },
  {
   "cell_type": "code",
   "execution_count": 6,
   "metadata": {},
   "outputs": [
    {
     "data": {
      "text/plain": [
       "array([['S'],\n",
       "       ['S'],\n",
       "       ['S'],\n",
       "       ['S'],\n",
       "       ['S']], dtype=object)"
      ]
     },
     "execution_count": 6,
     "metadata": {},
     "output_type": "execute_result"
    }
   ],
   "source": [
    "y_train[0:5]"
   ]
  },
  {
   "cell_type": "code",
   "execution_count": 7,
   "metadata": {},
   "outputs": [],
   "source": [
    "# Preprocess X and y data\n",
    "X_train = np.array(train_pa_df) # Convert X to numpy array\n",
    "y_train = y_train.reshape(-1)   # Flatten Y from column matrix to vector"
   ]
  },
  {
   "cell_type": "markdown",
   "metadata": {},
   "source": [
    "## 1. Build a Random Predictor\n",
    "\n",
    "Build a simple model (as a function) which randomly predicts the output class"
   ]
  },
  {
   "cell_type": "code",
   "execution_count": 8,
   "metadata": {},
   "outputs": [],
   "source": [
    "def random_predictor(X_train):\n",
    "    \"\"\"\n",
    "    Random predictor model - generate random predictions for each input sample\n",
    "\n",
    "    Inputs:\n",
    "      - X_train (np.array): feature data\n",
    "\n",
    "    Outputs:\n",
    "      - y_pred (np.array): predictions array\n",
    "    \"\"\"\n",
    "    # Add your code here\n",
    "    sample_count = X_train.shape[0]\n",
    "    options = ['S', 'R']\n",
    "\n",
    "    y_pred = np.random.choice(options, size=sample_count)\n",
    "    \n",
    "    return y_pred"
   ]
  },
  {
   "cell_type": "markdown",
   "metadata": {},
   "source": [
    "#### Q1. Run this random predictor across the training data 100 times, what is the average accuracy on the training dataset?"
   ]
  },
  {
   "cell_type": "code",
   "execution_count": 15,
   "metadata": {},
   "outputs": [
    {
     "name": "stdout",
     "output_type": "stream",
     "text": [
      "0.49901069518716584\n"
     ]
    }
   ],
   "source": [
    "# Add your code here\n",
    "random_accuracies = []\n",
    "\n",
    "for _ in range(100):\n",
    "    y_pred = random_predictor(X_train)\n",
    "    majority_accuracy = np.mean(y_train == y_pred)\n",
    "    random_accuracies.append(majority_accuracy)\n",
    "\n",
    "average_acc = np.mean(random_accuracies)\n",
    "print(average_acc)"
   ]
  },
  {
   "attachments": {},
   "cell_type": "markdown",
   "metadata": {},
   "source": [
    "Average accuracy is ~50%, as expected"
   ]
  },
  {
   "cell_type": "markdown",
   "metadata": {},
   "source": [
    "## 2. Build a Majority Class Predictor\n",
    "\n",
    "This time build a similar function but always predict the majority class\n",
    "  \n",
    "- Make sure to get the majority class from the data rather than assume\n",
    "- Check the imports for a useful function"
   ]
  },
  {
   "cell_type": "code",
   "execution_count": 23,
   "metadata": {},
   "outputs": [],
   "source": [
    "def majority_predictor(X_train, y_train):\n",
    "    \"\"\"\n",
    "    Majority predictor model - generate predictions for the majority class\n",
    "\n",
    "    Inputs:\n",
    "      - X_train (np.array): feature data\n",
    "      - y_train (np.array): target data\n",
    "\n",
    "    Outputs:\n",
    "      - y_pred (np.array): predictions array\n",
    "    \"\"\"\n",
    "    # Add your code here\n",
    "    # Count occurrences\n",
    "    counts = Counter(y_train)\n",
    "\n",
    "    # Get majority class from tuple\n",
    "    majority = counts.most_common(1)[0][0]\n",
    "\n",
    "    # Number of samples\n",
    "    sample_count = X_train.shape[0]\n",
    "\n",
    "    # Predict the majority for all\n",
    "    y_pred = np.full(shape=sample_count, fill_value=majority)\n",
    "\n",
    "    return y_pred"
   ]
  },
  {
   "cell_type": "markdown",
   "metadata": {},
   "source": [
    "#### Q2. Run this majority predictor once, what accuracy is achieved on the training dataset?"
   ]
  },
  {
   "cell_type": "code",
   "execution_count": 24,
   "metadata": {},
   "outputs": [
    {
     "name": "stdout",
     "output_type": "stream",
     "text": [
      "0.7994652406417112\n"
     ]
    }
   ],
   "source": [
    "# Add your code here\n",
    "y_pred = majority_predictor(X_train, y_train)\n",
    "majority_accuracy = np.mean(y_train == y_pred)\n",
    "print(majority_accuracy)"
   ]
  },
  {
   "attachments": {},
   "cell_type": "markdown",
   "metadata": {},
   "source": [
    "~80%"
   ]
  },
  {
   "cell_type": "markdown",
   "metadata": {},
   "source": [
    "## 3. Build a KNN Model\n",
    "\n",
    "[Useful documentation for KNN models](https://scikit-learn.org/stable/modules/generated/sklearn.neighbors.KNeighborsClassifier.html)\n",
    "\n",
    "Build a simple KNN classifier:\n",
    "- As we're training a model we need to split out some data for testing\n",
    "- Lets try a few different values of K for n-neighbors"
   ]
  },
  {
   "cell_type": "code",
   "execution_count": 28,
   "metadata": {},
   "outputs": [],
   "source": [
    "# Randomly select some IDs\n",
    "idx_all = np.arange(X_train.shape[0])\n",
    "val_ids = np.random.choice(idx_all, 100, replace=False)\n",
    "train_ids = idx_all[~np.isin(idx_all, val_ids)]\n",
    "\n",
    "# Subset data into train/validate\n",
    "y_train_knn = y_train[train_ids]\n",
    "X_train_knn = X_train[train_ids]\n",
    "\n",
    "y_val_knn = y_train[val_ids]\n",
    "X_val_knn = X_train[val_ids]"
   ]
  },
  {
   "cell_type": "markdown",
   "metadata": {},
   "source": [
    "#### For every K from 1 to 50: train a KNN Classifier and calculate accuracy on validate\n",
    "- Fit on train\n",
    "- Predict on validation\n",
    "- Calculate accuracy"
   ]
  },
  {
   "cell_type": "code",
   "execution_count": 29,
   "metadata": {},
   "outputs": [
    {
     "name": "stdout",
     "output_type": "stream",
     "text": [
      "K=1: Accuracy = 0.8000\n",
      "K=2: Accuracy = 0.8400\n",
      "K=3: Accuracy = 0.8600\n",
      "K=4: Accuracy = 0.8400\n",
      "K=5: Accuracy = 0.8500\n",
      "K=6: Accuracy = 0.8400\n",
      "K=7: Accuracy = 0.8500\n",
      "K=8: Accuracy = 0.8300\n",
      "K=9: Accuracy = 0.8600\n",
      "K=10: Accuracy = 0.8400\n",
      "K=11: Accuracy = 0.8400\n",
      "K=12: Accuracy = 0.8500\n",
      "K=13: Accuracy = 0.8500\n",
      "K=14: Accuracy = 0.8500\n",
      "K=15: Accuracy = 0.8400\n",
      "K=16: Accuracy = 0.8600\n",
      "K=17: Accuracy = 0.8600\n",
      "K=18: Accuracy = 0.8600\n",
      "K=19: Accuracy = 0.8300\n",
      "K=20: Accuracy = 0.8400\n",
      "K=21: Accuracy = 0.8400\n",
      "K=22: Accuracy = 0.8500\n",
      "K=23: Accuracy = 0.8200\n",
      "K=24: Accuracy = 0.8400\n",
      "K=25: Accuracy = 0.8200\n",
      "K=26: Accuracy = 0.8200\n",
      "K=27: Accuracy = 0.8100\n",
      "K=28: Accuracy = 0.8100\n",
      "K=29: Accuracy = 0.8100\n",
      "K=30: Accuracy = 0.8000\n",
      "K=31: Accuracy = 0.8000\n",
      "K=32: Accuracy = 0.8000\n",
      "K=33: Accuracy = 0.7900\n",
      "K=34: Accuracy = 0.7900\n",
      "K=35: Accuracy = 0.7900\n",
      "K=36: Accuracy = 0.7900\n",
      "K=37: Accuracy = 0.7900\n",
      "K=38: Accuracy = 0.7900\n",
      "K=39: Accuracy = 0.7900\n",
      "K=40: Accuracy = 0.7900\n",
      "K=41: Accuracy = 0.7800\n",
      "K=42: Accuracy = 0.7700\n",
      "K=43: Accuracy = 0.7800\n",
      "K=44: Accuracy = 0.7900\n",
      "K=45: Accuracy = 0.7700\n",
      "K=46: Accuracy = 0.7700\n",
      "K=47: Accuracy = 0.7700\n",
      "K=48: Accuracy = 0.7700\n",
      "K=49: Accuracy = 0.7700\n",
      "K=50: Accuracy = 0.7700\n"
     ]
    }
   ],
   "source": [
    "# Add your code here\n",
    "knn_accuracies = []\n",
    "\n",
    "for k in range(1, 51):\n",
    "    knn = neighbors.KNeighborsClassifier(n_neighbors=k)\n",
    "    knn.fit(X_train_knn, y_train_knn)\n",
    "\n",
    "    y_pred = knn.predict(X_val_knn)\n",
    "    accuracy = metrics.accuracy_score(y_val_knn, y_pred)\n",
    "\n",
    "    knn_accuracies.append(accuracy)\n",
    "\n",
    "for k, accuracy in enumerate(knn_accuracies, start=1):\n",
    "    print(f\"K={k}: Accuracy = {accuracy:.4f}\")\n"
   ]
  },
  {
   "cell_type": "markdown",
   "metadata": {},
   "source": [
    "#### Plot the validation accuracy as a function of K\n",
    "- X axis = K\n",
    "- Y axis = accuracy\n",
    "- Rememeber to clearly label your plot"
   ]
  },
  {
   "cell_type": "code",
   "execution_count": 48,
   "metadata": {},
   "outputs": [
    {
     "data": {
      "image/png": "[encoded data removed]",
      "text/plain": [
       "<Figure size 1000x700 with 1 Axes>"
      ]
     },
     "metadata": {},
     "output_type": "display_data"
    }
   ],
   "source": [
    "# Add your code here\n",
    "plt.figure(figsize=(10, 7))\n",
    "plt.plot(range(1, 51), knn_accuracies, marker='o')\n",
    "plt.title('KNN Validation Accuracy vs. K')\n",
    "plt.xlabel('Number of Neighbors (K)')\n",
    "plt.ylabel('Validation Accuracy')\n",
    "plt.xticks(range(1, 51, 2))\n",
    "plt.grid(True)\n",
    "plt.show()"
   ]
  },
  {
   "cell_type": "markdown",
   "metadata": {},
   "source": [
    "#### Q3. Comment on the plot above, how does this compare to the random and majority models?"
   ]
  },
  {
   "attachments": {},
   "cell_type": "markdown",
   "metadata": {},
   "source": [
    "It meaningfully outperforms both. 15-18 Strike me as the most trustworthy range, as it performs consistently well and should (?) be free of over/underfitting there."
   ]
  },
  {
   "cell_type": "code",
   "execution_count": null,
   "metadata": {},
   "outputs": [],
   "source": []
  }
 ],
 "metadata": {
  "kernelspec": {
   "display_name": "Python 3 (ipykernel)",
   "language": "python",
   "name": "python3"
  },
  "language_info": {
   "codemirror_mode": {
    "name": "ipython",
    "version": 3
   },
   "file_extension": ".py",
   "mimetype": "text/x-python",
   "name": "python",
   "nbconvert_exporter": "python",
   "pygments_lexer": "ipython3",
   "version": "3.10.16"
  }
 },
 "nbformat": 4,
 "nbformat_minor": 4
}
