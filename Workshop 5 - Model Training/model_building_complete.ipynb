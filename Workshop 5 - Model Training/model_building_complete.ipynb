{
 "cells": [
  {
   "cell_type": "markdown",
   "id": "a15dc821-7108-46a9-bad5-4f6f59121f8d",
   "metadata": {},
   "source": [
    "# Workshop 5 - Model Building\n",
    "\n",
    "In this workshop we're going to leverage the features we generated last week and train a few different models. If you completed the assignment last week you'll already have a high level idea of the performance we should be aiming for when training our models.\n",
    "\n",
    "This tutorial focuses on a few different model architectures and how to set up k-fold cross validation.\n",
    "\n",
    "Lets run through the steps together (there are some questions and some blanks to fill in as we run through)."
   ]
  },
  {
   "cell_type": "markdown",
   "id": "d7140deb-bd7d-48db-9a5a-367700da47a3",
   "metadata": {},
   "source": [
    "## Imports"
   ]
  },
  {
   "cell_type": "code",
   "execution_count": 1,
   "id": "79d595ae-d425-4900-8b62-7136b25e777e",
   "metadata": {},
   "outputs": [
    {
     "name": "stderr",
     "output_type": "stream",
     "text": [
      "2024-05-18 17:41:41.162366: I tensorflow/core/platform/cpu_feature_guard.cc:182] This TensorFlow binary is optimized to use available CPU instructions in performance-critical operations.\n",
      "To enable the following instructions: SSE4.1 SSE4.2 AVX AVX2 FMA, in other operations, rebuild TensorFlow with the appropriate compiler flags.\n"
     ]
    }
   ],
   "source": [
    "import os\n",
    "from collections import defaultdict\n",
    "\n",
    "import pandas as pd\n",
    "import numpy as np\n",
    "import sklearn\n",
    "from sklearn import linear_model\n",
    "from sklearn import tree\n",
    "from sklearn import ensemble\n",
    "from tensorflow import keras"
   ]
  },
  {
   "cell_type": "markdown",
   "id": "e327e0dd-fa16-4a1b-aea9-a2e7b2e17d01",
   "metadata": {},
   "source": [
    "## 1. Load Data\n",
    "\n",
    "\n",
    "For this workshop please download the latest:\n",
    "- `train_test_data` folder and put within `data/`\n",
    "\n",
    "Key for data:\n",
    "- train_pa_genes = presence absence binary features for training data\n",
    "- test_pa_genes = presence absence binary features for test data\n",
    "- train_kmers = kmer counts for training data\n",
    "- test_kmers = kmer counts for testing data\n",
    "- y_train = array of S/R target values\n",
    "- y_train_ids = array of genome_ids in order of y_train\n",
    "- y_test_ids = array of genome_ids in order of y_test"
   ]
  },
  {
   "cell_type": "code",
   "execution_count": 2,
   "id": "89fd3c81-1867-4819-b907-5f5816a41379",
   "metadata": {},
   "outputs": [],
   "source": [
    "seed = 130\n",
    "\n",
    "def load_data():\n",
    "    \"\"\"\n",
    "    Load the data needed for Workshop 5\n",
    "    \"\"\"\n",
    "    # Presence absence features\n",
    "    train_pa_genes = pd.read_csv('../data/train_test_data/train_pa_genes.csv').set_index('genome_id')\n",
    "    test_pa_genes = pd.read_csv('../data/train_test_data/test_pa_genes.csv').set_index('genome_id')\n",
    "    \n",
    "    # Load Kmer data\n",
    "    train_kmers = np.load('../data/train_test_data/train_kmers.npy', allow_pickle=True)\n",
    "    test_kmers = np.load('../data/train_test_data/test_kmers.npy', allow_pickle=True)\n",
    "\n",
    "    # Load target data & IDs\n",
    "    y_train = np.load('../data/train_test_data/y_train.npy', allow_pickle=True)\n",
    "    y_train_ids = np.load('../data/train_test_data/train_ids.npy', allow_pickle=True).astype(str)\n",
    "    y_test_ids = np.load('../data/train_test_data/test_ids.npy', allow_pickle=True).astype(str)\n",
    "\n",
    "    # Load raw gene data for optional neural network section\n",
    "    train_gene_alignment = pd.read_csv('../data/train_test_data/train_genes.csv')\n",
    "    \n",
    "    return train_pa_genes, test_pa_genes, train_kmers, test_kmers, y_train, y_train_ids, y_test_ids, train_gene_alignment\n",
    "\n",
    "train_pa_genes, test_pa_genes, X_train_kmers, X_test_kmers, y_train, y_train_ids, y_test_ids, train_gene_alignment = load_data()"
   ]
  },
  {
   "cell_type": "markdown",
   "id": "b354afc5-3d28-4f03-9c52-8dea927efed0",
   "metadata": {},
   "source": [
    "## 1. Linear Models\n",
    "\n",
    "For our first model we're going to try using a simple regression based model. The key limitation of regression is that it will only model linear combinations of our input features which may or may not be sufficient.\n",
    "\n",
    "If we wanted to use the linear model for inference (reviewing feature importances and understanding the impact of predictors on our response) we'd want to be much more careful about ensuring we're meeting the assumptions of linear regression (see this nice article: https://www.jmp.com/en_us/statistics-knowledge-portal/what-is-regression/simple-linear-regression-assumptions.html)"
   ]
  },
  {
   "cell_type": "markdown",
   "id": "d43cf53c-3da6-4ad5-9d8c-451be0833bca",
   "metadata": {},
   "source": [
    "#### Check our data\n",
    "\n",
    "- Our target (response) is either S/R so we have a binary prediction\n",
    "- This means we'll need to use logistic regression"
   ]
  },
  {
   "cell_type": "code",
   "execution_count": 3,
   "id": "5dfb0f0f-7851-49b3-bce5-53bcf15a4a7c",
   "metadata": {},
   "outputs": [
    {
     "data": {
      "text/plain": [
       "array(['R', 'S'], dtype=object)"
      ]
     },
     "execution_count": 3,
     "metadata": {},
     "output_type": "execute_result"
    }
   ],
   "source": [
    "np.unique(y_train)"
   ]
  },
  {
   "cell_type": "code",
   "execution_count": 4,
   "id": "87593f7e-2738-40e5-9a8c-c5e7ddd4ba5a",
   "metadata": {},
   "outputs": [
    {
     "data": {
      "text/html": [
       "<div>\n",
       "<style scoped>\n",
       "    .dataframe tbody tr th:only-of-type {\n",
       "        vertical-align: middle;\n",
       "    }\n",
       "\n",
       "    .dataframe tbody tr th {\n",
       "        vertical-align: top;\n",
       "    }\n",
       "\n",
       "    .dataframe thead th {\n",
       "        text-align: right;\n",
       "    }\n",
       "</style>\n",
       "<table border=\"1\" class=\"dataframe\">\n",
       "  <thead>\n",
       "    <tr style=\"text-align: right;\">\n",
       "      <th></th>\n",
       "      <th>gb|U00096.3|-|3324062-3324911|ARO:3003386|Ecol_folP_SLF</th>\n",
       "      <th>gb|AP009048.1|+|3760295-3762710|ARO:3003303|Ecol_gyrB_AMU</th>\n",
       "      <th>gb|BA000007.3|+|4990267-4994296|ARO:3003288|Ecol_rpoB_RIF</th>\n",
       "      <th>gb|AH002539.2|+|1760-2945|ARO:3003368|Ecol_EFTu_KIR</th>\n",
       "      <th>gb|AE014075.1|-|3901532-3902762|ARO:3003369|Ecol_EFTu_PLV</th>\n",
       "      <th>gb|U00096.3|-|2336792-2339420|ARO:3003294|Ecol_gyrA_FLO</th>\n",
       "      <th>gb|AE006468.2|-|4038867-4041282|ARO:3003307|Sser_gyrB_FLO</th>\n",
       "      <th>gb|HG738867.1|+|2934266-2935658|ARO:3003890|Ecol_UhpT_FOF</th>\n",
       "      <th>gb|HG738867.1|-|2233288-2234647|ARO:3003889|Ecol_GlpT_FOF</th>\n",
       "      <th>gb|HG738867.1|+|2930707-2931298|ARO:3003893|Ecol_uhpA_FOF</th>\n",
       "      <th>...</th>\n",
       "      <th>gb|X01702.1|+|484-1285|ARO:3002659|APH(6)-Ic</th>\n",
       "      <th>gb|JX259319.1|+|0-681|ARO:3002771|QnrB58</th>\n",
       "      <th>gb|EU675686.2|+|3196-4042|ARO:3002616|aadA16</th>\n",
       "      <th>gb|HQ418999.2|+|0-681|ARO:3002746|QnrB31</th>\n",
       "      <th>gb|JX423831.1|+|2676-3474|ARO:3001778|OXA-232</th>\n",
       "      <th>gb|AY536519.1|+|37-937|ARO:3002372|VEB-3</th>\n",
       "      <th>gb|KJ158441.1|+|2732-3377|ARO:3002789|QnrD2</th>\n",
       "      <th>gb|KF526113.1|+|0-1146|ARO:3002112|CMY-100</th>\n",
       "      <th>gb|X03988.1|+|382-1642|ARO:3000363|EreB</th>\n",
       "      <th>gb|AJ310778.1|+|7003-7573|ARO:3003015|dfrA19</th>\n",
       "    </tr>\n",
       "    <tr>\n",
       "      <th>genome_id</th>\n",
       "      <th></th>\n",
       "      <th></th>\n",
       "      <th></th>\n",
       "      <th></th>\n",
       "      <th></th>\n",
       "      <th></th>\n",
       "      <th></th>\n",
       "      <th></th>\n",
       "      <th></th>\n",
       "      <th></th>\n",
       "      <th></th>\n",
       "      <th></th>\n",
       "      <th></th>\n",
       "      <th></th>\n",
       "      <th></th>\n",
       "      <th></th>\n",
       "      <th></th>\n",
       "      <th></th>\n",
       "      <th></th>\n",
       "      <th></th>\n",
       "      <th></th>\n",
       "    </tr>\n",
       "  </thead>\n",
       "  <tbody>\n",
       "    <tr>\n",
       "      <th>562.22444</th>\n",
       "      <td>1.0</td>\n",
       "      <td>1.0</td>\n",
       "      <td>1.0</td>\n",
       "      <td>1.0</td>\n",
       "      <td>1.0</td>\n",
       "      <td>1.0</td>\n",
       "      <td>1.0</td>\n",
       "      <td>1.0</td>\n",
       "      <td>1.0</td>\n",
       "      <td>1.0</td>\n",
       "      <td>...</td>\n",
       "      <td>0.0</td>\n",
       "      <td>0.0</td>\n",
       "      <td>0.0</td>\n",
       "      <td>0.0</td>\n",
       "      <td>0.0</td>\n",
       "      <td>0.0</td>\n",
       "      <td>0.0</td>\n",
       "      <td>0.0</td>\n",
       "      <td>0.0</td>\n",
       "      <td>0.0</td>\n",
       "    </tr>\n",
       "    <tr>\n",
       "      <th>562.42705</th>\n",
       "      <td>1.0</td>\n",
       "      <td>1.0</td>\n",
       "      <td>1.0</td>\n",
       "      <td>0.0</td>\n",
       "      <td>0.0</td>\n",
       "      <td>1.0</td>\n",
       "      <td>0.0</td>\n",
       "      <td>1.0</td>\n",
       "      <td>1.0</td>\n",
       "      <td>1.0</td>\n",
       "      <td>...</td>\n",
       "      <td>0.0</td>\n",
       "      <td>0.0</td>\n",
       "      <td>0.0</td>\n",
       "      <td>0.0</td>\n",
       "      <td>0.0</td>\n",
       "      <td>0.0</td>\n",
       "      <td>0.0</td>\n",
       "      <td>0.0</td>\n",
       "      <td>0.0</td>\n",
       "      <td>0.0</td>\n",
       "    </tr>\n",
       "    <tr>\n",
       "      <th>562.42733</th>\n",
       "      <td>1.0</td>\n",
       "      <td>1.0</td>\n",
       "      <td>1.0</td>\n",
       "      <td>0.0</td>\n",
       "      <td>0.0</td>\n",
       "      <td>1.0</td>\n",
       "      <td>0.0</td>\n",
       "      <td>1.0</td>\n",
       "      <td>1.0</td>\n",
       "      <td>1.0</td>\n",
       "      <td>...</td>\n",
       "      <td>0.0</td>\n",
       "      <td>0.0</td>\n",
       "      <td>0.0</td>\n",
       "      <td>0.0</td>\n",
       "      <td>0.0</td>\n",
       "      <td>0.0</td>\n",
       "      <td>0.0</td>\n",
       "      <td>0.0</td>\n",
       "      <td>0.0</td>\n",
       "      <td>0.0</td>\n",
       "    </tr>\n",
       "  </tbody>\n",
       "</table>\n",
       "<p>3 rows × 159 columns</p>\n",
       "</div>"
      ],
      "text/plain": [
       "           gb|U00096.3|-|3324062-3324911|ARO:3003386|Ecol_folP_SLF  \\\n",
       "genome_id                                                            \n",
       "562.22444                                                1.0         \n",
       "562.42705                                                1.0         \n",
       "562.42733                                                1.0         \n",
       "\n",
       "           gb|AP009048.1|+|3760295-3762710|ARO:3003303|Ecol_gyrB_AMU  \\\n",
       "genome_id                                                              \n",
       "562.22444                                                1.0           \n",
       "562.42705                                                1.0           \n",
       "562.42733                                                1.0           \n",
       "\n",
       "           gb|BA000007.3|+|4990267-4994296|ARO:3003288|Ecol_rpoB_RIF  \\\n",
       "genome_id                                                              \n",
       "562.22444                                                1.0           \n",
       "562.42705                                                1.0           \n",
       "562.42733                                                1.0           \n",
       "\n",
       "           gb|AH002539.2|+|1760-2945|ARO:3003368|Ecol_EFTu_KIR  \\\n",
       "genome_id                                                        \n",
       "562.22444                                                1.0     \n",
       "562.42705                                                0.0     \n",
       "562.42733                                                0.0     \n",
       "\n",
       "           gb|AE014075.1|-|3901532-3902762|ARO:3003369|Ecol_EFTu_PLV  \\\n",
       "genome_id                                                              \n",
       "562.22444                                                1.0           \n",
       "562.42705                                                0.0           \n",
       "562.42733                                                0.0           \n",
       "\n",
       "           gb|U00096.3|-|2336792-2339420|ARO:3003294|Ecol_gyrA_FLO  \\\n",
       "genome_id                                                            \n",
       "562.22444                                                1.0         \n",
       "562.42705                                                1.0         \n",
       "562.42733                                                1.0         \n",
       "\n",
       "           gb|AE006468.2|-|4038867-4041282|ARO:3003307|Sser_gyrB_FLO  \\\n",
       "genome_id                                                              \n",
       "562.22444                                                1.0           \n",
       "562.42705                                                0.0           \n",
       "562.42733                                                0.0           \n",
       "\n",
       "           gb|HG738867.1|+|2934266-2935658|ARO:3003890|Ecol_UhpT_FOF  \\\n",
       "genome_id                                                              \n",
       "562.22444                                                1.0           \n",
       "562.42705                                                1.0           \n",
       "562.42733                                                1.0           \n",
       "\n",
       "           gb|HG738867.1|-|2233288-2234647|ARO:3003889|Ecol_GlpT_FOF  \\\n",
       "genome_id                                                              \n",
       "562.22444                                                1.0           \n",
       "562.42705                                                1.0           \n",
       "562.42733                                                1.0           \n",
       "\n",
       "           gb|HG738867.1|+|2930707-2931298|ARO:3003893|Ecol_uhpA_FOF  ...  \\\n",
       "genome_id                                                             ...   \n",
       "562.22444                                                1.0          ...   \n",
       "562.42705                                                1.0          ...   \n",
       "562.42733                                                1.0          ...   \n",
       "\n",
       "           gb|X01702.1|+|484-1285|ARO:3002659|APH(6)-Ic  \\\n",
       "genome_id                                                 \n",
       "562.22444                                           0.0   \n",
       "562.42705                                           0.0   \n",
       "562.42733                                           0.0   \n",
       "\n",
       "           gb|JX259319.1|+|0-681|ARO:3002771|QnrB58  \\\n",
       "genome_id                                             \n",
       "562.22444                                       0.0   \n",
       "562.42705                                       0.0   \n",
       "562.42733                                       0.0   \n",
       "\n",
       "           gb|EU675686.2|+|3196-4042|ARO:3002616|aadA16  \\\n",
       "genome_id                                                 \n",
       "562.22444                                           0.0   \n",
       "562.42705                                           0.0   \n",
       "562.42733                                           0.0   \n",
       "\n",
       "           gb|HQ418999.2|+|0-681|ARO:3002746|QnrB31  \\\n",
       "genome_id                                             \n",
       "562.22444                                       0.0   \n",
       "562.42705                                       0.0   \n",
       "562.42733                                       0.0   \n",
       "\n",
       "           gb|JX423831.1|+|2676-3474|ARO:3001778|OXA-232  \\\n",
       "genome_id                                                  \n",
       "562.22444                                            0.0   \n",
       "562.42705                                            0.0   \n",
       "562.42733                                            0.0   \n",
       "\n",
       "           gb|AY536519.1|+|37-937|ARO:3002372|VEB-3  \\\n",
       "genome_id                                             \n",
       "562.22444                                       0.0   \n",
       "562.42705                                       0.0   \n",
       "562.42733                                       0.0   \n",
       "\n",
       "           gb|KJ158441.1|+|2732-3377|ARO:3002789|QnrD2  \\\n",
       "genome_id                                                \n",
       "562.22444                                          0.0   \n",
       "562.42705                                          0.0   \n",
       "562.42733                                          0.0   \n",
       "\n",
       "           gb|KF526113.1|+|0-1146|ARO:3002112|CMY-100  \\\n",
       "genome_id                                               \n",
       "562.22444                                         0.0   \n",
       "562.42705                                         0.0   \n",
       "562.42733                                         0.0   \n",
       "\n",
       "           gb|X03988.1|+|382-1642|ARO:3000363|EreB  \\\n",
       "genome_id                                            \n",
       "562.22444                                      0.0   \n",
       "562.42705                                      0.0   \n",
       "562.42733                                      0.0   \n",
       "\n",
       "           gb|AJ310778.1|+|7003-7573|ARO:3003015|dfrA19  \n",
       "genome_id                                                \n",
       "562.22444                                           0.0  \n",
       "562.42705                                           0.0  \n",
       "562.42733                                           0.0  \n",
       "\n",
       "[3 rows x 159 columns]"
      ]
     },
     "execution_count": 4,
     "metadata": {},
     "output_type": "execute_result"
    }
   ],
   "source": [
    "train_pa_genes.head(3)"
   ]
  },
  {
   "cell_type": "markdown",
   "id": "b88893fc-285e-4030-a1c1-66e55ab24688",
   "metadata": {},
   "source": [
    "#### Convert dataframes to numpy arrays"
   ]
  },
  {
   "cell_type": "code",
   "execution_count": 5,
   "id": "b96ce6b2-dd3b-4269-ab66-a8cd2bd9ea12",
   "metadata": {},
   "outputs": [],
   "source": [
    "X_train_pa = np.array(train_pa_genes)\n",
    "X_test_pa = np.array(test_pa_genes)"
   ]
  },
  {
   "cell_type": "markdown",
   "id": "80397427-8b44-407c-8f0d-0339b224564c",
   "metadata": {},
   "source": [
    "#### Build Simple Logistic model\n",
    "\n",
    "Sklearn has a simple interface for building logistic models: https://scikit-learn.org/stable/modules/generated/sklearn.linear_model.LogisticRegression.html\n",
    "\n",
    "By default this model has regularization, lets try with it off first"
   ]
  },
  {
   "cell_type": "code",
   "execution_count": 6,
   "id": "f4e4b375-8d7b-47df-a937-4cf1b0a5fe81",
   "metadata": {},
   "outputs": [
    {
     "data": {
      "text/html": [
       "<style>#sk-container-id-1 {\n",
       "  /* Definition of color scheme common for light and dark mode */\n",
       "  --sklearn-color-text: black;\n",
       "  --sklearn-color-line: gray;\n",
       "  /* Definition of color scheme for unfitted estimators */\n",
       "  --sklearn-color-unfitted-level-0: #fff5e6;\n",
       "  --sklearn-color-unfitted-level-1: #f6e4d2;\n",
       "  --sklearn-color-unfitted-level-2: #ffe0b3;\n",
       "  --sklearn-color-unfitted-level-3: chocolate;\n",
       "  /* Definition of color scheme for fitted estimators */\n",
       "  --sklearn-color-fitted-level-0: #f0f8ff;\n",
       "  --sklearn-color-fitted-level-1: #d4ebff;\n",
       "  --sklearn-color-fitted-level-2: #b3dbfd;\n",
       "  --sklearn-color-fitted-level-3: cornflowerblue;\n",
       "\n",
       "  /* Specific color for light theme */\n",
       "  --sklearn-color-text-on-default-background: var(--sg-text-color, var(--theme-code-foreground, var(--jp-content-font-color1, black)));\n",
       "  --sklearn-color-background: var(--sg-background-color, var(--theme-background, var(--jp-layout-color0, white)));\n",
       "  --sklearn-color-border-box: var(--sg-text-color, var(--theme-code-foreground, var(--jp-content-font-color1, black)));\n",
       "  --sklearn-color-icon: #696969;\n",
       "\n",
       "  @media (prefers-color-scheme: dark) {\n",
       "    /* Redefinition of color scheme for dark theme */\n",
       "    --sklearn-color-text-on-default-background: var(--sg-text-color, var(--theme-code-foreground, var(--jp-content-font-color1, white)));\n",
       "    --sklearn-color-background: var(--sg-background-color, var(--theme-background, var(--jp-layout-color0, #111)));\n",
       "    --sklearn-color-border-box: var(--sg-text-color, var(--theme-code-foreground, var(--jp-content-font-color1, white)));\n",
       "    --sklearn-color-icon: #878787;\n",
       "  }\n",
       "}\n",
       "\n",
       "#sk-container-id-1 {\n",
       "  color: var(--sklearn-color-text);\n",
       "}\n",
       "\n",
       "#sk-container-id-1 pre {\n",
       "  padding: 0;\n",
       "}\n",
       "\n",
       "#sk-container-id-1 input.sk-hidden--visually {\n",
       "  border: 0;\n",
       "  clip: rect(1px 1px 1px 1px);\n",
       "  clip: rect(1px, 1px, 1px, 1px);\n",
       "  height: 1px;\n",
       "  margin: -1px;\n",
       "  overflow: hidden;\n",
       "  padding: 0;\n",
       "  position: absolute;\n",
       "  width: 1px;\n",
       "}\n",
       "\n",
       "#sk-container-id-1 div.sk-dashed-wrapped {\n",
       "  border: 1px dashed var(--sklearn-color-line);\n",
       "  margin: 0 0.4em 0.5em 0.4em;\n",
       "  box-sizing: border-box;\n",
       "  padding-bottom: 0.4em;\n",
       "  background-color: var(--sklearn-color-background);\n",
       "}\n",
       "\n",
       "#sk-container-id-1 div.sk-container {\n",
       "  /* jupyter's `normalize.less` sets `[hidden] { display: none; }`\n",
       "     but bootstrap.min.css set `[hidden] { display: none !important; }`\n",
       "     so we also need the `!important` here to be able to override the\n",
       "     default hidden behavior on the sphinx rendered scikit-learn.org.\n",
       "     See: https://github.com/scikit-learn/scikit-learn/issues/21755 */\n",
       "  display: inline-block !important;\n",
       "  position: relative;\n",
       "}\n",
       "\n",
       "#sk-container-id-1 div.sk-text-repr-fallback {\n",
       "  display: none;\n",
       "}\n",
       "\n",
       "div.sk-parallel-item,\n",
       "div.sk-serial,\n",
       "div.sk-item {\n",
       "  /* draw centered vertical line to link estimators */\n",
       "  background-image: linear-gradient(var(--sklearn-color-text-on-default-background), var(--sklearn-color-text-on-default-background));\n",
       "  background-size: 2px 100%;\n",
       "  background-repeat: no-repeat;\n",
       "  background-position: center center;\n",
       "}\n",
       "\n",
       "/* Parallel-specific style estimator block */\n",
       "\n",
       "#sk-container-id-1 div.sk-parallel-item::after {\n",
       "  content: \"\";\n",
       "  width: 100%;\n",
       "  border-bottom: 2px solid var(--sklearn-color-text-on-default-background);\n",
       "  flex-grow: 1;\n",
       "}\n",
       "\n",
       "#sk-container-id-1 div.sk-parallel {\n",
       "  display: flex;\n",
       "  align-items: stretch;\n",
       "  justify-content: center;\n",
       "  background-color: var(--sklearn-color-background);\n",
       "  position: relative;\n",
       "}\n",
       "\n",
       "#sk-container-id-1 div.sk-parallel-item {\n",
       "  display: flex;\n",
       "  flex-direction: column;\n",
       "}\n",
       "\n",
       "#sk-container-id-1 div.sk-parallel-item:first-child::after {\n",
       "  align-self: flex-end;\n",
       "  width: 50%;\n",
       "}\n",
       "\n",
       "#sk-container-id-1 div.sk-parallel-item:last-child::after {\n",
       "  align-self: flex-start;\n",
       "  width: 50%;\n",
       "}\n",
       "\n",
       "#sk-container-id-1 div.sk-parallel-item:only-child::after {\n",
       "  width: 0;\n",
       "}\n",
       "\n",
       "/* Serial-specific style estimator block */\n",
       "\n",
       "#sk-container-id-1 div.sk-serial {\n",
       "  display: flex;\n",
       "  flex-direction: column;\n",
       "  align-items: center;\n",
       "  background-color: var(--sklearn-color-background);\n",
       "  padding-right: 1em;\n",
       "  padding-left: 1em;\n",
       "}\n",
       "\n",
       "\n",
       "/* Toggleable style: style used for estimator/Pipeline/ColumnTransformer box that is\n",
       "clickable and can be expanded/collapsed.\n",
       "- Pipeline and ColumnTransformer use this feature and define the default style\n",
       "- Estimators will overwrite some part of the style using the `sk-estimator` class\n",
       "*/\n",
       "\n",
       "/* Pipeline and ColumnTransformer style (default) */\n",
       "\n",
       "#sk-container-id-1 div.sk-toggleable {\n",
       "  /* Default theme specific background. It is overwritten whether we have a\n",
       "  specific estimator or a Pipeline/ColumnTransformer */\n",
       "  background-color: var(--sklearn-color-background);\n",
       "}\n",
       "\n",
       "/* Toggleable label */\n",
       "#sk-container-id-1 label.sk-toggleable__label {\n",
       "  cursor: pointer;\n",
       "  display: block;\n",
       "  width: 100%;\n",
       "  margin-bottom: 0;\n",
       "  padding: 0.5em;\n",
       "  box-sizing: border-box;\n",
       "  text-align: center;\n",
       "}\n",
       "\n",
       "#sk-container-id-1 label.sk-toggleable__label-arrow:before {\n",
       "  /* Arrow on the left of the label */\n",
       "  content: \"▸\";\n",
       "  float: left;\n",
       "  margin-right: 0.25em;\n",
       "  color: var(--sklearn-color-icon);\n",
       "}\n",
       "\n",
       "#sk-container-id-1 label.sk-toggleable__label-arrow:hover:before {\n",
       "  color: var(--sklearn-color-text);\n",
       "}\n",
       "\n",
       "/* Toggleable content - dropdown */\n",
       "\n",
       "#sk-container-id-1 div.sk-toggleable__content {\n",
       "  max-height: 0;\n",
       "  max-width: 0;\n",
       "  overflow: hidden;\n",
       "  text-align: left;\n",
       "  /* unfitted */\n",
       "  background-color: var(--sklearn-color-unfitted-level-0);\n",
       "}\n",
       "\n",
       "#sk-container-id-1 div.sk-toggleable__content.fitted {\n",
       "  /* fitted */\n",
       "  background-color: var(--sklearn-color-fitted-level-0);\n",
       "}\n",
       "\n",
       "#sk-container-id-1 div.sk-toggleable__content pre {\n",
       "  margin: 0.2em;\n",
       "  border-radius: 0.25em;\n",
       "  color: var(--sklearn-color-text);\n",
       "  /* unfitted */\n",
       "  background-color: var(--sklearn-color-unfitted-level-0);\n",
       "}\n",
       "\n",
       "#sk-container-id-1 div.sk-toggleable__content.fitted pre {\n",
       "  /* unfitted */\n",
       "  background-color: var(--sklearn-color-fitted-level-0);\n",
       "}\n",
       "\n",
       "#sk-container-id-1 input.sk-toggleable__control:checked~div.sk-toggleable__content {\n",
       "  /* Expand drop-down */\n",
       "  max-height: 200px;\n",
       "  max-width: 100%;\n",
       "  overflow: auto;\n",
       "}\n",
       "\n",
       "#sk-container-id-1 input.sk-toggleable__control:checked~label.sk-toggleable__label-arrow:before {\n",
       "  content: \"▾\";\n",
       "}\n",
       "\n",
       "/* Pipeline/ColumnTransformer-specific style */\n",
       "\n",
       "#sk-container-id-1 div.sk-label input.sk-toggleable__control:checked~label.sk-toggleable__label {\n",
       "  color: var(--sklearn-color-text);\n",
       "  background-color: var(--sklearn-color-unfitted-level-2);\n",
       "}\n",
       "\n",
       "#sk-container-id-1 div.sk-label.fitted input.sk-toggleable__control:checked~label.sk-toggleable__label {\n",
       "  background-color: var(--sklearn-color-fitted-level-2);\n",
       "}\n",
       "\n",
       "/* Estimator-specific style */\n",
       "\n",
       "/* Colorize estimator box */\n",
       "#sk-container-id-1 div.sk-estimator input.sk-toggleable__control:checked~label.sk-toggleable__label {\n",
       "  /* unfitted */\n",
       "  background-color: var(--sklearn-color-unfitted-level-2);\n",
       "}\n",
       "\n",
       "#sk-container-id-1 div.sk-estimator.fitted input.sk-toggleable__control:checked~label.sk-toggleable__label {\n",
       "  /* fitted */\n",
       "  background-color: var(--sklearn-color-fitted-level-2);\n",
       "}\n",
       "\n",
       "#sk-container-id-1 div.sk-label label.sk-toggleable__label,\n",
       "#sk-container-id-1 div.sk-label label {\n",
       "  /* The background is the default theme color */\n",
       "  color: var(--sklearn-color-text-on-default-background);\n",
       "}\n",
       "\n",
       "/* On hover, darken the color of the background */\n",
       "#sk-container-id-1 div.sk-label:hover label.sk-toggleable__label {\n",
       "  color: var(--sklearn-color-text);\n",
       "  background-color: var(--sklearn-color-unfitted-level-2);\n",
       "}\n",
       "\n",
       "/* Label box, darken color on hover, fitted */\n",
       "#sk-container-id-1 div.sk-label.fitted:hover label.sk-toggleable__label.fitted {\n",
       "  color: var(--sklearn-color-text);\n",
       "  background-color: var(--sklearn-color-fitted-level-2);\n",
       "}\n",
       "\n",
       "/* Estimator label */\n",
       "\n",
       "#sk-container-id-1 div.sk-label label {\n",
       "  font-family: monospace;\n",
       "  font-weight: bold;\n",
       "  display: inline-block;\n",
       "  line-height: 1.2em;\n",
       "}\n",
       "\n",
       "#sk-container-id-1 div.sk-label-container {\n",
       "  text-align: center;\n",
       "}\n",
       "\n",
       "/* Estimator-specific */\n",
       "#sk-container-id-1 div.sk-estimator {\n",
       "  font-family: monospace;\n",
       "  border: 1px dotted var(--sklearn-color-border-box);\n",
       "  border-radius: 0.25em;\n",
       "  box-sizing: border-box;\n",
       "  margin-bottom: 0.5em;\n",
       "  /* unfitted */\n",
       "  background-color: var(--sklearn-color-unfitted-level-0);\n",
       "}\n",
       "\n",
       "#sk-container-id-1 div.sk-estimator.fitted {\n",
       "  /* fitted */\n",
       "  background-color: var(--sklearn-color-fitted-level-0);\n",
       "}\n",
       "\n",
       "/* on hover */\n",
       "#sk-container-id-1 div.sk-estimator:hover {\n",
       "  /* unfitted */\n",
       "  background-color: var(--sklearn-color-unfitted-level-2);\n",
       "}\n",
       "\n",
       "#sk-container-id-1 div.sk-estimator.fitted:hover {\n",
       "  /* fitted */\n",
       "  background-color: var(--sklearn-color-fitted-level-2);\n",
       "}\n",
       "\n",
       "/* Specification for estimator info (e.g. \"i\" and \"?\") */\n",
       "\n",
       "/* Common style for \"i\" and \"?\" */\n",
       "\n",
       ".sk-estimator-doc-link,\n",
       "a:link.sk-estimator-doc-link,\n",
       "a:visited.sk-estimator-doc-link {\n",
       "  float: right;\n",
       "  font-size: smaller;\n",
       "  line-height: 1em;\n",
       "  font-family: monospace;\n",
       "  background-color: var(--sklearn-color-background);\n",
       "  border-radius: 1em;\n",
       "  height: 1em;\n",
       "  width: 1em;\n",
       "  text-decoration: none !important;\n",
       "  margin-left: 1ex;\n",
       "  /* unfitted */\n",
       "  border: var(--sklearn-color-unfitted-level-1) 1pt solid;\n",
       "  color: var(--sklearn-color-unfitted-level-1);\n",
       "}\n",
       "\n",
       ".sk-estimator-doc-link.fitted,\n",
       "a:link.sk-estimator-doc-link.fitted,\n",
       "a:visited.sk-estimator-doc-link.fitted {\n",
       "  /* fitted */\n",
       "  border: var(--sklearn-color-fitted-level-1) 1pt solid;\n",
       "  color: var(--sklearn-color-fitted-level-1);\n",
       "}\n",
       "\n",
       "/* On hover */\n",
       "div.sk-estimator:hover .sk-estimator-doc-link:hover,\n",
       ".sk-estimator-doc-link:hover,\n",
       "div.sk-label-container:hover .sk-estimator-doc-link:hover,\n",
       ".sk-estimator-doc-link:hover {\n",
       "  /* unfitted */\n",
       "  background-color: var(--sklearn-color-unfitted-level-3);\n",
       "  color: var(--sklearn-color-background);\n",
       "  text-decoration: none;\n",
       "}\n",
       "\n",
       "div.sk-estimator.fitted:hover .sk-estimator-doc-link.fitted:hover,\n",
       ".sk-estimator-doc-link.fitted:hover,\n",
       "div.sk-label-container:hover .sk-estimator-doc-link.fitted:hover,\n",
       ".sk-estimator-doc-link.fitted:hover {\n",
       "  /* fitted */\n",
       "  background-color: var(--sklearn-color-fitted-level-3);\n",
       "  color: var(--sklearn-color-background);\n",
       "  text-decoration: none;\n",
       "}\n",
       "\n",
       "/* Span, style for the box shown on hovering the info icon */\n",
       ".sk-estimator-doc-link span {\n",
       "  display: none;\n",
       "  z-index: 9999;\n",
       "  position: relative;\n",
       "  font-weight: normal;\n",
       "  right: .2ex;\n",
       "  padding: .5ex;\n",
       "  margin: .5ex;\n",
       "  width: min-content;\n",
       "  min-width: 20ex;\n",
       "  max-width: 50ex;\n",
       "  color: var(--sklearn-color-text);\n",
       "  box-shadow: 2pt 2pt 4pt #999;\n",
       "  /* unfitted */\n",
       "  background: var(--sklearn-color-unfitted-level-0);\n",
       "  border: .5pt solid var(--sklearn-color-unfitted-level-3);\n",
       "}\n",
       "\n",
       ".sk-estimator-doc-link.fitted span {\n",
       "  /* fitted */\n",
       "  background: var(--sklearn-color-fitted-level-0);\n",
       "  border: var(--sklearn-color-fitted-level-3);\n",
       "}\n",
       "\n",
       ".sk-estimator-doc-link:hover span {\n",
       "  display: block;\n",
       "}\n",
       "\n",
       "/* \"?\"-specific style due to the `<a>` HTML tag */\n",
       "\n",
       "#sk-container-id-1 a.estimator_doc_link {\n",
       "  float: right;\n",
       "  font-size: 1rem;\n",
       "  line-height: 1em;\n",
       "  font-family: monospace;\n",
       "  background-color: var(--sklearn-color-background);\n",
       "  border-radius: 1rem;\n",
       "  height: 1rem;\n",
       "  width: 1rem;\n",
       "  text-decoration: none;\n",
       "  /* unfitted */\n",
       "  color: var(--sklearn-color-unfitted-level-1);\n",
       "  border: var(--sklearn-color-unfitted-level-1) 1pt solid;\n",
       "}\n",
       "\n",
       "#sk-container-id-1 a.estimator_doc_link.fitted {\n",
       "  /* fitted */\n",
       "  border: var(--sklearn-color-fitted-level-1) 1pt solid;\n",
       "  color: var(--sklearn-color-fitted-level-1);\n",
       "}\n",
       "\n",
       "/* On hover */\n",
       "#sk-container-id-1 a.estimator_doc_link:hover {\n",
       "  /* unfitted */\n",
       "  background-color: var(--sklearn-color-unfitted-level-3);\n",
       "  color: var(--sklearn-color-background);\n",
       "  text-decoration: none;\n",
       "}\n",
       "\n",
       "#sk-container-id-1 a.estimator_doc_link.fitted:hover {\n",
       "  /* fitted */\n",
       "  background-color: var(--sklearn-color-fitted-level-3);\n",
       "}\n",
       "</style><div id=\"sk-container-id-1\" class=\"sk-top-container\"><div class=\"sk-text-repr-fallback\"><pre>LogisticRegression(max_iter=10000, penalty=None)</pre><b>In a Jupyter environment, please rerun this cell to show the HTML representation or trust the notebook. <br />On GitHub, the HTML representation is unable to render, please try loading this page with nbviewer.org.</b></div><div class=\"sk-container\" hidden><div class=\"sk-item\"><div class=\"sk-estimator fitted sk-toggleable\"><input class=\"sk-toggleable__control sk-hidden--visually\" id=\"sk-estimator-id-1\" type=\"checkbox\" checked><label for=\"sk-estimator-id-1\" class=\"sk-toggleable__label fitted sk-toggleable__label-arrow fitted\">&nbsp;&nbsp;LogisticRegression<a class=\"sk-estimator-doc-link fitted\" rel=\"noreferrer\" target=\"_blank\" href=\"https://scikit-learn.org/1.4/modules/generated/sklearn.linear_model.LogisticRegression.html\">?<span>Documentation for LogisticRegression</span></a><span class=\"sk-estimator-doc-link fitted\">i<span>Fitted</span></span></label><div class=\"sk-toggleable__content fitted\"><pre>LogisticRegression(max_iter=10000, penalty=None)</pre></div> </div></div></div></div>"
      ],
      "text/plain": [
       "LogisticRegression(max_iter=10000, penalty=None)"
      ]
     },
     "execution_count": 6,
     "metadata": {},
     "output_type": "execute_result"
    }
   ],
   "source": [
    "logistic_model = linear_model.LogisticRegression(max_iter=10000, penalty=None)\n",
    "logistic_model.fit(X_train_pa, y_train.reshape(-1))"
   ]
  },
  {
   "cell_type": "code",
   "execution_count": 7,
   "id": "050b966c-9440-4fd2-af22-2473f7ce3f49",
   "metadata": {},
   "outputs": [],
   "source": [
    "y_pred_train_log_pa = logistic_model.predict(X_train_pa)"
   ]
  },
  {
   "cell_type": "code",
   "execution_count": 8,
   "id": "80972ce5-a728-4709-a547-27a91681bc09",
   "metadata": {},
   "outputs": [
    {
     "data": {
      "text/plain": [
       "0.928294314381271"
      ]
     },
     "execution_count": 8,
     "metadata": {},
     "output_type": "execute_result"
    }
   ],
   "source": [
    "sklearn.metrics.balanced_accuracy_score(y_train, y_pred_train_log_pa)"
   ]
  },
  {
   "cell_type": "markdown",
   "id": "e72fd381-8924-4ac8-b623-e7ec3aaaf2c9",
   "metadata": {},
   "source": [
    "#### Try regularizing\n",
    "\n",
    "- Regularizing adds a penality to the loss function\n",
    "- The idea being that it will penalize the model for high weights and reduce overfitting to training data"
   ]
  },
  {
   "cell_type": "code",
   "execution_count": 9,
   "id": "dd53fa3e-b47d-4d5b-9560-5e3ec911eae2",
   "metadata": {},
   "outputs": [],
   "source": [
    "logistic_model = linear_model.LogisticRegression(max_iter=10000, penalty='l2')\n",
    "logistic_model.fit(X_train_pa, y_train.reshape(-1))\n",
    "\n",
    "y_pred_train_log_pa = logistic_model.predict(X_train_pa)"
   ]
  },
  {
   "cell_type": "code",
   "execution_count": 10,
   "id": "ca718ed4-820e-4f90-b9cb-8dbeb306ece9",
   "metadata": {},
   "outputs": [
    {
     "data": {
      "text/plain": [
       "0.8707692307692307"
      ]
     },
     "execution_count": 10,
     "metadata": {},
     "output_type": "execute_result"
    }
   ],
   "source": [
    "sklearn.metrics.balanced_accuracy_score(y_train, y_pred_train_log_pa)"
   ]
  },
  {
   "cell_type": "markdown",
   "id": "d14f0f71-b67c-4cc9-8498-71de29db1fd0",
   "metadata": {},
   "source": [
    "<div class=\"question\" style=\"color: #534646; background-color: #ffdfa3; padding: 1px; border-radius: 5px;\">\n",
    "\n",
    "#### Q. What do we think of these balanced accuracy scores?\n",
    "\n",
    "</div>"
   ]
  },
  {
   "cell_type": "markdown",
   "id": "2ba1a81d-bdc5-42c6-b28f-924882dca0f7",
   "metadata": {},
   "source": [
    "#### Finally we could also use Kmers in exactly the same way\n",
    "- Both are tabular datasets\n",
    "- Given we have a lot more kmer features this will take longer to train\n",
    "- You may also need more regularization to offset the additional N features"
   ]
  },
  {
   "cell_type": "code",
   "execution_count": 11,
   "id": "97105ae8-9136-4f66-ae12-95efad94e6a1",
   "metadata": {},
   "outputs": [],
   "source": [
    "# logistic_model = linear_model.LogisticRegression(penalty='l2')\n",
    "# logistic_model.fit(X_train_kmers, y_train.reshape(-1))"
   ]
  },
  {
   "cell_type": "markdown",
   "id": "2ed4c01f-54c6-4eb2-a193-385e5334e9e1",
   "metadata": {},
   "source": [
    "## 2. Tree Based Models\n",
    "\n",
    "Sklearn has a very similar interface for fitting tree based models.\n",
    "\n",
    "In this case we'll try:\n",
    "1. Simple decision tree\n",
    "2. Ensemble random forest method\n",
    "\n",
    "Tree based models are a great fit for binary feature data due to the successive decision making process but it will also work for both our tabular feature sets.\n",
    "\n",
    "In this case lets try using the kmer data"
   ]
  },
  {
   "cell_type": "code",
   "execution_count": 12,
   "id": "4f98bd4a-b00e-4854-b9b4-fc65d738a30e",
   "metadata": {},
   "outputs": [],
   "source": [
    "# Use a decision tree classifier \n",
    "tree_model = tree.DecisionTreeClassifier(\n",
    "    max_depth = 4, # Important parameter!\n",
    "    random_state = seed,\n",
    ")\n",
    "tree_model.fit(X_train_kmers, y_train.reshape(-1))\n",
    "\n",
    "y_pred_train_tree_kmer = tree_model.predict(X_train_kmers)"
   ]
  },
  {
   "cell_type": "code",
   "execution_count": 13,
   "id": "928cd773-7a17-4d23-9386-dfea7db5b463",
   "metadata": {},
   "outputs": [
    {
     "data": {
      "text/plain": [
       "0.9407803790412486"
      ]
     },
     "execution_count": 13,
     "metadata": {},
     "output_type": "execute_result"
    }
   ],
   "source": [
    "# Check our balanced accuracy\n",
    "sklearn.metrics.balanced_accuracy_score(y_train, y_pred_train_tree_kmer)"
   ]
  },
  {
   "cell_type": "markdown",
   "id": "3d57a08f-c057-4839-9812-3b22297aec2c",
   "metadata": {},
   "source": [
    "<div class=\"question\" style=\"color: #534646; background-color: #ffdfa3; padding: 1px; border-radius: 5px;\">\n",
    "\n",
    "#### Q. What would happen if we keep increasing max depth? Are there any alternatives?\n",
    "\n",
    "</div>"
   ]
  },
  {
   "cell_type": "markdown",
   "id": "a1027764-54b9-4d16-af33-99e5ee8ff175",
   "metadata": {},
   "source": [
    "#### Random Forest"
   ]
  },
  {
   "cell_type": "code",
   "execution_count": 14,
   "id": "73c768be-eb7b-4f9e-a845-80fd61f1a7fc",
   "metadata": {},
   "outputs": [],
   "source": [
    "# Use a decision tree classifier \n",
    "rf_model = ensemble.RandomForestClassifier(\n",
    "    n_estimators = 20,\n",
    "    max_depth = 4,\n",
    "    random_state = seed,\n",
    ")\n",
    "rf_model.fit(X_train_kmers, y_train.reshape(-1))\n",
    "\n",
    "y_pred_train_rf_kmer = rf_model.predict(X_train_kmers)"
   ]
  },
  {
   "cell_type": "code",
   "execution_count": 15,
   "id": "c58e2333-c179-4642-814a-86175de52d8b",
   "metadata": {},
   "outputs": [
    {
     "data": {
      "text/plain": [
       "0.8790746934225195"
      ]
     },
     "execution_count": 15,
     "metadata": {},
     "output_type": "execute_result"
    }
   ],
   "source": [
    "# Check our balanced accuracy\n",
    "sklearn.metrics.balanced_accuracy_score(y_train, y_pred_train_rf_kmer)"
   ]
  },
  {
   "cell_type": "markdown",
   "id": "170fb59f-9328-43fd-8046-77d7c7e58296",
   "metadata": {},
   "source": [
    "<div class=\"question\" style=\"color: #534646; background-color: #ffdfa3; padding: 1px; border-radius: 5px;\">\n",
    "\n",
    "#### Q. Why do we see this change in train accuracy?\n",
    "\n",
    "</div>"
   ]
  },
  {
   "cell_type": "markdown",
   "id": "760aaf1f-1835-45cc-92bb-867a9eee552b",
   "metadata": {},
   "source": [
    "## 3. Gradient Boosting\n",
    "\n",
    "Gradient boosting is generally considered to be the best default choice for many predictive modeling problems from tabular data. It commonly comes out on top during Kaggle competitions for a wide array of datasets. \n",
    "\n",
    "The ideal model will always depend on the data you're using but gradient boosting is always a good place to start.\n",
    "\n",
    "In practice you might wish to use XGBOOST or LightGBM packages (feel free to install and use for your final project) but here we'll use the simple sklearn implementation"
   ]
  },
  {
   "cell_type": "code",
   "execution_count": 16,
   "id": "86a2e483-aa1a-4489-a522-732a9ba7a7ac",
   "metadata": {},
   "outputs": [],
   "source": [
    "boost_model = sklearn.ensemble.AdaBoostClassifier(\n",
    "    estimator = tree.DecisionTreeClassifier(max_depth=1), # Can choose any simple base estimator\n",
    "    n_estimators = 10,\n",
    "    learning_rate = 2.0, # Another parameter to tune\n",
    "    algorithm=\"SAMME\",\n",
    ")"
   ]
  },
  {
   "cell_type": "markdown",
   "id": "0b650610-4981-44b5-abbb-9f83ba69d932",
   "metadata": {},
   "source": [
    "### Sample Weighting\n",
    "\n",
    "So far we've just fit basic default models, during your project you'll want to be more careful about tuning parameters and optimizing (we'll cover this next week).\n",
    "\n",
    "One approach that will be useful across many model types however is sample weighting:\n",
    "- We know our dataset is imbalanced\n",
    "- We wish to encourage the model to learn both classes\n",
    "- To do so we can upweight the minority class and downweight the majority class\n",
    "- Sklearn can do this for us"
   ]
  },
  {
   "cell_type": "code",
   "execution_count": 17,
   "id": "d303ccf1-588c-4587-be8e-8ba682963513",
   "metadata": {},
   "outputs": [
    {
     "data": {
      "text/html": [
       "<div>\n",
       "<style scoped>\n",
       "    .dataframe tbody tr th:only-of-type {\n",
       "        vertical-align: middle;\n",
       "    }\n",
       "\n",
       "    .dataframe tbody tr th {\n",
       "        vertical-align: top;\n",
       "    }\n",
       "\n",
       "    .dataframe thead th {\n",
       "        text-align: right;\n",
       "    }\n",
       "</style>\n",
       "<table border=\"1\" class=\"dataframe\">\n",
       "  <thead>\n",
       "    <tr style=\"text-align: right;\">\n",
       "      <th></th>\n",
       "      <th>y_train</th>\n",
       "      <th>weight</th>\n",
       "    </tr>\n",
       "  </thead>\n",
       "  <tbody>\n",
       "    <tr>\n",
       "      <th>0</th>\n",
       "      <td>[S]</td>\n",
       "      <td>0.625418</td>\n",
       "    </tr>\n",
       "    <tr>\n",
       "      <th>1</th>\n",
       "      <td>[S]</td>\n",
       "      <td>0.625418</td>\n",
       "    </tr>\n",
       "    <tr>\n",
       "      <th>2</th>\n",
       "      <td>[S]</td>\n",
       "      <td>0.625418</td>\n",
       "    </tr>\n",
       "    <tr>\n",
       "      <th>3</th>\n",
       "      <td>[S]</td>\n",
       "      <td>0.625418</td>\n",
       "    </tr>\n",
       "    <tr>\n",
       "      <th>4</th>\n",
       "      <td>[S]</td>\n",
       "      <td>0.625418</td>\n",
       "    </tr>\n",
       "    <tr>\n",
       "      <th>5</th>\n",
       "      <td>[S]</td>\n",
       "      <td>0.625418</td>\n",
       "    </tr>\n",
       "    <tr>\n",
       "      <th>6</th>\n",
       "      <td>[R]</td>\n",
       "      <td>2.493333</td>\n",
       "    </tr>\n",
       "    <tr>\n",
       "      <th>7</th>\n",
       "      <td>[S]</td>\n",
       "      <td>0.625418</td>\n",
       "    </tr>\n",
       "    <tr>\n",
       "      <th>8</th>\n",
       "      <td>[R]</td>\n",
       "      <td>2.493333</td>\n",
       "    </tr>\n",
       "    <tr>\n",
       "      <th>9</th>\n",
       "      <td>[R]</td>\n",
       "      <td>2.493333</td>\n",
       "    </tr>\n",
       "  </tbody>\n",
       "</table>\n",
       "</div>"
      ],
      "text/plain": [
       "  y_train    weight\n",
       "0     [S]  0.625418\n",
       "1     [S]  0.625418\n",
       "2     [S]  0.625418\n",
       "3     [S]  0.625418\n",
       "4     [S]  0.625418\n",
       "5     [S]  0.625418\n",
       "6     [R]  2.493333\n",
       "7     [S]  0.625418\n",
       "8     [R]  2.493333\n",
       "9     [R]  2.493333"
      ]
     },
     "execution_count": 17,
     "metadata": {},
     "output_type": "execute_result"
    }
   ],
   "source": [
    "sample_weights = sklearn.utils.class_weight.compute_sample_weight(\"balanced\", y_train)\n",
    "\n",
    "# Check the weights for a few samples\n",
    "pd.DataFrame(list(zip(y_train[0:10], sample_weights[0:10])), columns=['y_train', 'weight'])"
   ]
  },
  {
   "cell_type": "code",
   "execution_count": 18,
   "id": "41bf3222-5e05-4527-8450-67c3a54f3b3f",
   "metadata": {},
   "outputs": [],
   "source": [
    "# Fit the booster (train time is a bit too long to demo so lets take only 100 samples)\n",
    "X_train_kmers\n",
    "boost_model.fit(X_train_kmers[0:100], y_train[0:100].reshape(-1), sample_weight=sample_weights[0:100])\n",
    "\n",
    "y_pred_train_boost_kmer = boost_model.predict(X_train_kmers)"
   ]
  },
  {
   "cell_type": "code",
   "execution_count": 19,
   "id": "fb759612-71c7-49de-9a29-cc20d9a700ee",
   "metadata": {},
   "outputs": [
    {
     "data": {
      "text/plain": [
       "0.783221850613155"
      ]
     },
     "execution_count": 19,
     "metadata": {},
     "output_type": "execute_result"
    }
   ],
   "source": [
    "# Check our balanced accuracy\n",
    "sklearn.metrics.balanced_accuracy_score(y_train, y_pred_train_boost_kmer)"
   ]
  },
  {
   "cell_type": "markdown",
   "id": "cb82b327-405f-4df4-bcb1-f290b42ca46c",
   "metadata": {},
   "source": [
    "## 4. Cross validation\n",
    "\n",
    "So far we've seen a few different interfaces for training various models but we've only been looking at the training data.\n",
    "\n",
    "For the test dataset we don't have access to the labels (they've been hidden as part of the final project) so what should we use to assess our models more fairly?\n",
    "\n",
    "This is where K-fold CV and validation data in general comes into play.\n",
    "\n",
    "We want to split our training data into train/validate where we hold out a portion of the data for checking model performance whilst tuning.\n",
    "\n",
    "As usual there are a lot of nice packages where this has already been implemented for us!"
   ]
  },
  {
   "cell_type": "markdown",
   "id": "90f2c400-547d-48d3-afb1-7848ed0e0737",
   "metadata": {},
   "source": [
    "#### Train Test Split\n",
    "\n",
    "- If we just want a single split (one off)\n",
    "- This will randomly split up data and match the IDs between train and validate for us"
   ]
  },
  {
   "cell_type": "code",
   "execution_count": 20,
   "id": "9dfa27c4-c795-4226-804b-1548d8bb6a78",
   "metadata": {},
   "outputs": [],
   "source": [
    "X_train_split, X_validate_split, y_train_split, y_validate_split = sklearn.model_selection.train_test_split(\n",
    "    X_train_pa, \n",
    "    y_train, \n",
    "    test_size=0.3, \n",
    "    random_state=seed,\n",
    ")"
   ]
  },
  {
   "cell_type": "code",
   "execution_count": 21,
   "id": "bb3ffdf6-7e6c-48ca-9cb6-2a12232ed700",
   "metadata": {},
   "outputs": [
    {
     "name": "stdout",
     "output_type": "stream",
     "text": [
      "(523, 159) (523, 1)\n"
     ]
    }
   ],
   "source": [
    "print(X_train_split.shape, y_train_split.shape)"
   ]
  },
  {
   "cell_type": "code",
   "execution_count": 22,
   "id": "cb0f16f8-3c44-4aa6-963d-84c2ba2aaf68",
   "metadata": {},
   "outputs": [
    {
     "name": "stdout",
     "output_type": "stream",
     "text": [
      "(225, 159) (225, 1)\n"
     ]
    }
   ],
   "source": [
    "print(X_validate_split.shape, y_validate_split.shape)"
   ]
  },
  {
   "cell_type": "markdown",
   "id": "46c548ba-961d-421a-8dcf-181b3e1e3883",
   "metadata": {},
   "source": [
    "#### K-FOLD CV\n",
    "\n",
    "In reality we want to make multiple splits so we can train multiple models.\n",
    "\n",
    "This will allow to avoid overfitting to any specific split of the data."
   ]
  },
  {
   "cell_type": "code",
   "execution_count": 23,
   "id": "18dac647-f664-492e-b907-04f53b3ce06c",
   "metadata": {},
   "outputs": [],
   "source": [
    "K = 3\n",
    "kfold = sklearn.model_selection.KFold(\n",
    "    n_splits = K,\n",
    "    shuffle = True, # Want to shuffle as seen in slides\n",
    "    random_state = seed, # To ensure reproducible results\n",
    ")\n",
    "\n",
    "kfold_dfs = {}\n",
    "for i, (train_index, val_index) in enumerate(kfold.split(X_train_pa)):\n",
    "    \n",
    "    # Can either train models directly here or save out the data for future training\n",
    "    kfold_dfs[i] = (X_train_pa[train_index], X_train_pa[val_index], y_train[train_index], y_train[val_index])"
   ]
  },
  {
   "cell_type": "code",
   "execution_count": 24,
   "id": "f1c938b6-d378-4ac3-87be-06873336f93a",
   "metadata": {},
   "outputs": [
    {
     "name": "stdout",
     "output_type": "stream",
     "text": [
      "Fold 0 X Train:  (498, 159)\n",
      "Fold 0 y Train:  (498, 1)\n",
      "Fold 0 X Validate:  (250, 159)\n",
      "Fold 0 y Validate:  (250, 1)\n"
     ]
    }
   ],
   "source": [
    "print(\"Fold 0 X Train: \", kfold_dfs[0][0].shape)\n",
    "print(\"Fold 0 y Train: \", kfold_dfs[0][2].shape)\n",
    "print(\"Fold 0 X Validate: \", kfold_dfs[0][1].shape)\n",
    "print(\"Fold 0 y Validate: \", kfold_dfs[0][3].shape)"
   ]
  },
  {
   "cell_type": "code",
   "execution_count": 25,
   "id": "d4c5b784-2854-4896-9cb1-5c065e354bff",
   "metadata": {},
   "outputs": [
    {
     "name": "stdout",
     "output_type": "stream",
     "text": [
      "Fold 1 X Train:  (499, 159)\n",
      "Fold 1 y Train:  (499, 1)\n",
      "Fold 1 X Validate:  (249, 159)\n",
      "Fold 1 y Validate:  (249, 1)\n"
     ]
    }
   ],
   "source": [
    "print(\"Fold 1 X Train: \", kfold_dfs[1][0].shape)\n",
    "print(\"Fold 1 y Train: \", kfold_dfs[1][2].shape)\n",
    "print(\"Fold 1 X Validate: \", kfold_dfs[1][1].shape)\n",
    "print(\"Fold 1 y Validate: \", kfold_dfs[1][3].shape)"
   ]
  },
  {
   "cell_type": "markdown",
   "id": "04179bd4-0b73-4027-b055-37bd43e9d263",
   "metadata": {},
   "source": [
    "#### Recommend stratifying on our target\n",
    "- When using this in your project it would be useful to also Stratify on the target variable\n",
    "- This ensures we have an even balance of S/R in each split\n",
    "- Avoids having any individual fold with an odd balance of S/R (e.g. missing any R examples)\n",
    "- You can use StratifiedKFold for this: https://scikit-learn.org/stable/modules/generated/sklearn.model_selection.StratifiedKFold.html"
   ]
  },
  {
   "cell_type": "markdown",
   "id": "167fa7ce-8c75-40d4-9914-82da7c0c52b9",
   "metadata": {},
   "source": [
    "## 5. [BONUS] Convolutional Neural Network\n",
    "\n",
    "If you're interested in trying to use the sequencing features + a CNN here is an example of both featurization and model training:\n",
    "\n",
    "- This particular model doesn't learn effectively from the data (it predicts majority class)\n",
    "- It's going to be challenging to get it to learn but will be an interesting task to try!\n",
    "- This can act as a starting point for future experimentation\n",
    "- Much of the work will need to be in the featurization step: how to combine genes\n",
    "\n",
    "I'm happy to schedule an office hour session to talk through if interested!\n",
    "\n",
    "You may wish to use google colab or another cloud based platform with scalable resources to ensure you can train the model without running out of RAM"
   ]
  },
  {
   "cell_type": "code",
   "execution_count": 26,
   "id": "282e8672-5cdb-4192-8e83-6a4a26b50858",
   "metadata": {},
   "outputs": [],
   "source": [
    "# 1. Take only the unique genes which weren't redundant (based on presence absence)\n",
    "# This is just to reduce the data size and make it easier to train, ideally we'd use all genes here\n",
    "subset_gene_data = train_gene_alignment[train_gene_alignment.res_gene.isin(set(train_pa_genes.columns))].copy()"
   ]
  },
  {
   "cell_type": "code",
   "execution_count": 27,
   "id": "0e36c1dc-18fe-47aa-a593-f90c07799285",
   "metadata": {},
   "outputs": [],
   "source": [
    "# 2. Find maximum length and set padding\n",
    "subset_gene_features = subset_gene_data.groupby('genome_id', sort=False)['ref_gene_str'].sum()  \n",
    "pad_char = 0\n",
    "max_length = np.max([len(x) for x in subset_gene_features])"
   ]
  },
  {
   "cell_type": "code",
   "execution_count": 28,
   "id": "813c8172-b1a0-46ca-a3e6-168567710641",
   "metadata": {},
   "outputs": [],
   "source": [
    "# Functions to featurize sequence data\n",
    "def encode_seq(seq):\n",
    "    label_enc = {'A':1, 'C':2, 'G':3, 'T':4}\n",
    "    return [label_enc.get(x.upper(), 5) for x in seq]\n",
    "\n",
    "def featurize_variant_sequences(variant_genes, amr_max_length, pad_char=0):\n",
    "    gene_features = variant_genes.groupby('genome_id', sort=False)['ref_gene_str'].sum()\n",
    "    gene_features = [encode_seq(x) for x in gene_features]\n",
    "    gene_features = keras.utils.pad_sequences(gene_features, maxlen=max_length, padding='post', value=pad_char)\n",
    "       \n",
    "    return gene_features"
   ]
  },
  {
   "cell_type": "code",
   "execution_count": 29,
   "id": "644ee58d-5e52-4145-b8c0-2220e191db73",
   "metadata": {},
   "outputs": [
    {
     "data": {
      "text/plain": [
       "(748, 99288)"
      ]
     },
     "execution_count": 29,
     "metadata": {},
     "output_type": "execute_result"
    }
   ],
   "source": [
    "# 3. Featurize the data into our simple encoding\n",
    "X_seq = featurize_variant_sequences(subset_gene_data, max_length)\n",
    "X_seq.shape"
   ]
  },
  {
   "cell_type": "markdown",
   "id": "06907509-7977-40a1-aeb4-8a1b07838c62",
   "metadata": {},
   "source": [
    "#### Define a simple CNN"
   ]
  },
  {
   "cell_type": "code",
   "execution_count": 30,
   "id": "4cd97f09-58b1-4474-9092-352295a02e7d",
   "metadata": {},
   "outputs": [],
   "source": [
    "# Define CNN\n",
    "input_layer = keras.layers.Input(shape=(X_seq.shape[-1], 1))\n",
    "cnn_layer = keras.layers.Conv1D(\n",
    "    20,\n",
    "    11,\n",
    "    strides=1,\n",
    "    padding='same',\n",
    "    activation='relu'\n",
    ")(input_layer)\n",
    "pool = keras.layers.MaxPool1D(pool_size=3)(cnn_layer)\n",
    "cnn_layer2 = keras.layers.Conv1D(\n",
    "    30,\n",
    "    15,\n",
    "    strides=1,\n",
    "    padding='same',\n",
    "    activation='relu'\n",
    ")(pool)\n",
    "pool2 = keras.layers.MaxPool1D(pool_size=5)(cnn_layer2)\n",
    "cnn_layer3 = keras.layers.Conv1D(\n",
    "    50,\n",
    "    21,\n",
    "    strides=1,\n",
    "    padding='same',\n",
    "    activation='relu'\n",
    ")(pool2)\n",
    "pool3 = keras.layers.MaxPool1D(pool_size=7)(cnn_layer2)\n",
    "final_pool = keras.layers.Flatten()(pool3)\n",
    "dense = keras.layers.Dense(20, activation='relu')(final_pool)\n",
    "output = keras.layers.Dense(1, activation='sigmoid')(dense)\n",
    "\n",
    "cnn = keras.Model(inputs=input_layer, outputs=output)"
   ]
  },
  {
   "cell_type": "code",
   "execution_count": 31,
   "id": "0d3e404b-3666-4484-939f-639699c0e17e",
   "metadata": {},
   "outputs": [
    {
     "name": "stdout",
     "output_type": "stream",
     "text": [
      "Model: \"model\"\n",
      "_________________________________________________________________\n",
      " Layer (type)                Output Shape              Param #   \n",
      "=================================================================\n",
      " input_1 (InputLayer)        [(None, 99288, 1)]        0         \n",
      "                                                                 \n",
      " conv1d (Conv1D)             (None, 99288, 20)         240       \n",
      "                                                                 \n",
      " max_pooling1d (MaxPooling1D  (None, 33096, 20)        0         \n",
      " )                                                               \n",
      "                                                                 \n",
      " conv1d_1 (Conv1D)           (None, 33096, 30)         9030      \n",
      "                                                                 \n",
      " max_pooling1d_2 (MaxPooling  (None, 4728, 30)         0         \n",
      " 1D)                                                             \n",
      "                                                                 \n",
      " flatten (Flatten)           (None, 141840)            0         \n",
      "                                                                 \n",
      " dense (Dense)               (None, 20)                2836820   \n",
      "                                                                 \n",
      " dense_1 (Dense)             (None, 1)                 21        \n",
      "                                                                 \n",
      "=================================================================\n",
      "Total params: 2,846,111\n",
      "Trainable params: 2,846,111\n",
      "Non-trainable params: 0\n",
      "_________________________________________________________________\n"
     ]
    }
   ],
   "source": [
    "# Display model structure\n",
    "cnn.summary()"
   ]
  },
  {
   "cell_type": "code",
   "execution_count": 32,
   "id": "cb3c73a7-edf8-4cd6-b929-1c6a3fe2f2a7",
   "metadata": {},
   "outputs": [],
   "source": [
    "# Compile model and select optimizer\n",
    "cnn.compile(optimizer='adam', loss='binary_crossentropy', metrics=['accuracy'])"
   ]
  },
  {
   "cell_type": "code",
   "execution_count": 33,
   "id": "5a32d07b-e8df-4ae6-b5eb-d91f37dbccdf",
   "metadata": {},
   "outputs": [],
   "source": [
    "# Encode y_train to numeric binary 1/0 from S/R\n",
    "le = sklearn.preprocessing.LabelEncoder()\n",
    "y_train_binary = le.fit_transform(y_train.reshape(-1))"
   ]
  },
  {
   "cell_type": "code",
   "execution_count": 34,
   "id": "19826bd0-403e-42ea-8062-627ba402e8e8",
   "metadata": {},
   "outputs": [
    {
     "name": "stdout",
     "output_type": "stream",
     "text": [
      "Epoch 1/10\n",
      "38/38 [==============================] - 26s 658ms/step - loss: 0.6285 - accuracy: 0.8077 - val_loss: 0.5511 - val_accuracy: 0.7667\n",
      "Epoch 2/10\n",
      "38/38 [==============================] - 30s 781ms/step - loss: 0.4532 - accuracy: 0.8094 - val_loss: 0.5221 - val_accuracy: 0.7667\n",
      "Epoch 3/10\n",
      "38/38 [==============================] - 26s 677ms/step - loss: 0.4302 - accuracy: 0.8060 - val_loss: 0.4802 - val_accuracy: 0.7667\n",
      "Epoch 4/10\n",
      "38/38 [==============================] - 23s 596ms/step - loss: 0.4138 - accuracy: 0.8244 - val_loss: 0.4608 - val_accuracy: 0.8000\n",
      "Epoch 5/10\n",
      "38/38 [==============================] - 24s 628ms/step - loss: 0.5024 - accuracy: 0.8278 - val_loss: 0.5120 - val_accuracy: 0.7667\n",
      "Epoch 6/10\n",
      "38/38 [==============================] - 22s 589ms/step - loss: 0.4374 - accuracy: 0.8077 - val_loss: 0.5474 - val_accuracy: 0.7667\n",
      "Epoch 7/10\n",
      "38/38 [==============================] - 27s 724ms/step - loss: 0.4088 - accuracy: 0.8194 - val_loss: 0.4491 - val_accuracy: 0.7733\n",
      "Epoch 8/10\n",
      "38/38 [==============================] - 26s 688ms/step - loss: 0.3389 - accuracy: 0.8512 - val_loss: 0.4263 - val_accuracy: 0.8200\n",
      "Epoch 9/10\n",
      "38/38 [==============================] - 24s 637ms/step - loss: 0.3145 - accuracy: 0.8729 - val_loss: 0.4686 - val_accuracy: 0.7933\n",
      "Epoch 10/10\n",
      "38/38 [==============================] - 28s 726ms/step - loss: 0.2417 - accuracy: 0.9114 - val_loss: 0.5009 - val_accuracy: 0.8000\n"
     ]
    }
   ],
   "source": [
    "# Fit the model\n",
    "history = cnn.fit(X_seq, y_train_binary, validation_split=0.2, batch_size=16, epochs=10)"
   ]
  },
  {
   "cell_type": "markdown",
   "id": "b023fe87-7f1b-4d94-9c46-913bd876f16c",
   "metadata": {},
   "source": [
    "### This looks like it's started to learn something!\n",
    "\n",
    "It's clearly lagging behind in terms of validation accuracy though and is potentially overfitting!\n",
    "\n",
    "A few ideas:\n",
    "- Use an encoding layer rather than simple numeric encoding\n",
    "- Use all the genes!\n",
    "- Pad the genes individually and then concatenate them to better preserve position information better\n",
    "- Try different pooling strategies\n",
    "- Use dropout for regularizing\n",
    "\n",
    "You may use this architecture of feel free to start from scratch using your own CNN approach\n",
    "\n",
    "You could also try RNN or other convolution approaches!"
   ]
  },
  {
   "cell_type": "code",
   "execution_count": null,
   "id": "cbab6e61-757b-497e-945b-b4e9f8130256",
   "metadata": {},
   "outputs": [],
   "source": []
  }
 ],
 "metadata": {
  "kernelspec": {
   "display_name": "Python 3 (ipykernel)",
   "language": "python",
   "name": "python3"
  },
  "language_info": {
   "codemirror_mode": {
    "name": "ipython",
    "version": 3
   },
   "file_extension": ".py",
   "mimetype": "text/x-python",
   "name": "python",
   "nbconvert_exporter": "python",
   "pygments_lexer": "ipython3",
   "version": "3.10.14"
  }
 },
 "nbformat": 4,
 "nbformat_minor": 5
}
